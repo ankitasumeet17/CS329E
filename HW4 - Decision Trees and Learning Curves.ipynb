{
  "cells": [
    {
      "cell_type": "markdown",
      "metadata": {
        "id": "CsII0Mcormyn"
      },
      "source": [
        "### C S 329E HW 4\n",
        "\n",
        "## Pair Programming Group Number: 15\n",
        "## Members of Team: Ankita Sumeet, Chloe Jin\n",
        "\n",
        "## Decision Tree Classifier\n",
        "\n",
        "\n",
        "For this weeks homework we are going to explore ideas around decision tree implementation!  \n",
        "\n",
        "We will implement some helper functions that would be necessary for a home-grown tree:\n",
        "  - calc_entropy\n",
        "  - calc_gini\n",
        "  \n",
        "and them test them out at given data splits. \n",
        "  \n",
        "And finally, to perform predictive and descriptive analytics we use the [Decision Tree Classifier](https://scikit-learn.org/stable/modules/tree.html#classification) class in the scikit-learn package.\n",
        "\n",
        "  \n",
        "For this assignment, the stopping condition will be the depth of the tree. The impurity measure can be either `Entropy` or `Gini`.\n",
        "\n",
        "To test our tree built from the Decision Tree Classifier class, we will revisit our Melbourne housing data (that has been cleaned and pruned) and use the files:\n",
        "\n",
        "   - `melb_tree_train.csv` for training the decision tree (we'll also see what happens if we use the same data to test as we used to train the data in the last problem)\n",
        "   - `melb_tree_test.csv` for testing the decision tree\n",
        "\n",
        "There are 10 features in these dataframes that we can use to describe and predict the class label housing \"Type\", which is 'h' house, 'u' duplex, or 't' townhome. "
      ]
    },
    {
      "cell_type": "code",
      "execution_count": null,
      "metadata": {
        "id": "XW5qmE_qrmyp"
      },
      "outputs": [],
      "source": [
        "# import the libraries\n",
        "import pandas as pd\n",
        "import numpy as np\n",
        "import matplotlib.pyplot as plt\n",
        "from math import log2\n",
        "from sklearn import tree # you'll probably need to install this - look at Q6 for a link \n",
        "import graphviz # you'll probably need to install this - look at Q6 for a link "
      ]
    },
    {
      "cell_type": "code",
      "execution_count": null,
      "metadata": {
        "colab": {
          "base_uri": "https://localhost:8080/",
          "height": 206
        },
        "id": "oHRp2EZkr9S2",
        "outputId": "bc3382f3-00d6-4bca-9937-2fe3215951cc"
      },
      "outputs": [
        {
          "output_type": "execute_result",
          "data": {
            "text/plain": [
              "   Rooms Type      Price  Distance  Bedroom2  Bathroom  Car  Landsize  \\\n",
              "0      2    t   771000.0      13.8       2.0       1.0  1.0       0.0   \n",
              "1      3    t   700000.0       7.9       3.0       2.0  1.0     189.0   \n",
              "2      3    u   975000.0      12.1       3.0       2.0  1.0     277.0   \n",
              "3      3    h  1290000.0       8.0       3.0       1.0  1.0     618.0   \n",
              "4      2    u   500000.0       4.2       2.0       1.0  1.0       0.0   \n",
              "\n",
              "   BuildingArea  YearBuilt    CouncilArea  \n",
              "0          99.0     1992.0        Bayside  \n",
              "1         110.0     1990.0        Banyule  \n",
              "2         109.0     1975.0      Glen Eira  \n",
              "3         132.0     1960.0  Moonee Valley  \n",
              "4          86.0     2000.0      Melbourne  "
            ],
            "text/html": [
              "\n",
              "  <div id=\"df-581c3fc2-0d85-4270-ba1d-0949ad4cfde1\">\n",
              "    <div class=\"colab-df-container\">\n",
              "      <div>\n",
              "<style scoped>\n",
              "    .dataframe tbody tr th:only-of-type {\n",
              "        vertical-align: middle;\n",
              "    }\n",
              "\n",
              "    .dataframe tbody tr th {\n",
              "        vertical-align: top;\n",
              "    }\n",
              "\n",
              "    .dataframe thead th {\n",
              "        text-align: right;\n",
              "    }\n",
              "</style>\n",
              "<table border=\"1\" class=\"dataframe\">\n",
              "  <thead>\n",
              "    <tr style=\"text-align: right;\">\n",
              "      <th></th>\n",
              "      <th>Rooms</th>\n",
              "      <th>Type</th>\n",
              "      <th>Price</th>\n",
              "      <th>Distance</th>\n",
              "      <th>Bedroom2</th>\n",
              "      <th>Bathroom</th>\n",
              "      <th>Car</th>\n",
              "      <th>Landsize</th>\n",
              "      <th>BuildingArea</th>\n",
              "      <th>YearBuilt</th>\n",
              "      <th>CouncilArea</th>\n",
              "    </tr>\n",
              "  </thead>\n",
              "  <tbody>\n",
              "    <tr>\n",
              "      <th>0</th>\n",
              "      <td>2</td>\n",
              "      <td>t</td>\n",
              "      <td>771000.0</td>\n",
              "      <td>13.8</td>\n",
              "      <td>2.0</td>\n",
              "      <td>1.0</td>\n",
              "      <td>1.0</td>\n",
              "      <td>0.0</td>\n",
              "      <td>99.0</td>\n",
              "      <td>1992.0</td>\n",
              "      <td>Bayside</td>\n",
              "    </tr>\n",
              "    <tr>\n",
              "      <th>1</th>\n",
              "      <td>3</td>\n",
              "      <td>t</td>\n",
              "      <td>700000.0</td>\n",
              "      <td>7.9</td>\n",
              "      <td>3.0</td>\n",
              "      <td>2.0</td>\n",
              "      <td>1.0</td>\n",
              "      <td>189.0</td>\n",
              "      <td>110.0</td>\n",
              "      <td>1990.0</td>\n",
              "      <td>Banyule</td>\n",
              "    </tr>\n",
              "    <tr>\n",
              "      <th>2</th>\n",
              "      <td>3</td>\n",
              "      <td>u</td>\n",
              "      <td>975000.0</td>\n",
              "      <td>12.1</td>\n",
              "      <td>3.0</td>\n",
              "      <td>2.0</td>\n",
              "      <td>1.0</td>\n",
              "      <td>277.0</td>\n",
              "      <td>109.0</td>\n",
              "      <td>1975.0</td>\n",
              "      <td>Glen Eira</td>\n",
              "    </tr>\n",
              "    <tr>\n",
              "      <th>3</th>\n",
              "      <td>3</td>\n",
              "      <td>h</td>\n",
              "      <td>1290000.0</td>\n",
              "      <td>8.0</td>\n",
              "      <td>3.0</td>\n",
              "      <td>1.0</td>\n",
              "      <td>1.0</td>\n",
              "      <td>618.0</td>\n",
              "      <td>132.0</td>\n",
              "      <td>1960.0</td>\n",
              "      <td>Moonee Valley</td>\n",
              "    </tr>\n",
              "    <tr>\n",
              "      <th>4</th>\n",
              "      <td>2</td>\n",
              "      <td>u</td>\n",
              "      <td>500000.0</td>\n",
              "      <td>4.2</td>\n",
              "      <td>2.0</td>\n",
              "      <td>1.0</td>\n",
              "      <td>1.0</td>\n",
              "      <td>0.0</td>\n",
              "      <td>86.0</td>\n",
              "      <td>2000.0</td>\n",
              "      <td>Melbourne</td>\n",
              "    </tr>\n",
              "  </tbody>\n",
              "</table>\n",
              "</div>\n",
              "      <button class=\"colab-df-convert\" onclick=\"convertToInteractive('df-581c3fc2-0d85-4270-ba1d-0949ad4cfde1')\"\n",
              "              title=\"Convert this dataframe to an interactive table.\"\n",
              "              style=\"display:none;\">\n",
              "        \n",
              "  <svg xmlns=\"http://www.w3.org/2000/svg\" height=\"24px\"viewBox=\"0 0 24 24\"\n",
              "       width=\"24px\">\n",
              "    <path d=\"M0 0h24v24H0V0z\" fill=\"none\"/>\n",
              "    <path d=\"M18.56 5.44l.94 2.06.94-2.06 2.06-.94-2.06-.94-.94-2.06-.94 2.06-2.06.94zm-11 1L8.5 8.5l.94-2.06 2.06-.94-2.06-.94L8.5 2.5l-.94 2.06-2.06.94zm10 10l.94 2.06.94-2.06 2.06-.94-2.06-.94-.94-2.06-.94 2.06-2.06.94z\"/><path d=\"M17.41 7.96l-1.37-1.37c-.4-.4-.92-.59-1.43-.59-.52 0-1.04.2-1.43.59L10.3 9.45l-7.72 7.72c-.78.78-.78 2.05 0 2.83L4 21.41c.39.39.9.59 1.41.59.51 0 1.02-.2 1.41-.59l7.78-7.78 2.81-2.81c.8-.78.8-2.07 0-2.86zM5.41 20L4 18.59l7.72-7.72 1.47 1.35L5.41 20z\"/>\n",
              "  </svg>\n",
              "      </button>\n",
              "      \n",
              "  <style>\n",
              "    .colab-df-container {\n",
              "      display:flex;\n",
              "      flex-wrap:wrap;\n",
              "      gap: 12px;\n",
              "    }\n",
              "\n",
              "    .colab-df-convert {\n",
              "      background-color: #E8F0FE;\n",
              "      border: none;\n",
              "      border-radius: 50%;\n",
              "      cursor: pointer;\n",
              "      display: none;\n",
              "      fill: #1967D2;\n",
              "      height: 32px;\n",
              "      padding: 0 0 0 0;\n",
              "      width: 32px;\n",
              "    }\n",
              "\n",
              "    .colab-df-convert:hover {\n",
              "      background-color: #E2EBFA;\n",
              "      box-shadow: 0px 1px 2px rgba(60, 64, 67, 0.3), 0px 1px 3px 1px rgba(60, 64, 67, 0.15);\n",
              "      fill: #174EA6;\n",
              "    }\n",
              "\n",
              "    [theme=dark] .colab-df-convert {\n",
              "      background-color: #3B4455;\n",
              "      fill: #D2E3FC;\n",
              "    }\n",
              "\n",
              "    [theme=dark] .colab-df-convert:hover {\n",
              "      background-color: #434B5C;\n",
              "      box-shadow: 0px 1px 3px 1px rgba(0, 0, 0, 0.15);\n",
              "      filter: drop-shadow(0px 1px 2px rgba(0, 0, 0, 0.3));\n",
              "      fill: #FFFFFF;\n",
              "    }\n",
              "  </style>\n",
              "\n",
              "      <script>\n",
              "        const buttonEl =\n",
              "          document.querySelector('#df-581c3fc2-0d85-4270-ba1d-0949ad4cfde1 button.colab-df-convert');\n",
              "        buttonEl.style.display =\n",
              "          google.colab.kernel.accessAllowed ? 'block' : 'none';\n",
              "\n",
              "        async function convertToInteractive(key) {\n",
              "          const element = document.querySelector('#df-581c3fc2-0d85-4270-ba1d-0949ad4cfde1');\n",
              "          const dataTable =\n",
              "            await google.colab.kernel.invokeFunction('convertToInteractive',\n",
              "                                                     [key], {});\n",
              "          if (!dataTable) return;\n",
              "\n",
              "          const docLinkHtml = 'Like what you see? Visit the ' +\n",
              "            '<a target=\"_blank\" href=https://colab.research.google.com/notebooks/data_table.ipynb>data table notebook</a>'\n",
              "            + ' to learn more about interactive tables.';\n",
              "          element.innerHTML = '';\n",
              "          dataTable['output_type'] = 'display_data';\n",
              "          await google.colab.output.renderOutput(dataTable, element);\n",
              "          const docLink = document.createElement('div');\n",
              "          docLink.innerHTML = docLinkHtml;\n",
              "          element.appendChild(docLink);\n",
              "        }\n",
              "      </script>\n",
              "    </div>\n",
              "  </div>\n",
              "  "
            ]
          },
          "metadata": {},
          "execution_count": 2
        }
      ],
      "source": [
        "df_train = pd.read_csv('https://gist.githubusercontent.com/yanyanzheng96/f8ba57f8377dee0810271475c728fca8/raw/afa3fa4305b55e31135980835d40b27af31f288c/melb_tree_train.csv')\n",
        "df_train.head()"
      ]
    },
    {
      "cell_type": "code",
      "execution_count": null,
      "metadata": {
        "colab": {
          "base_uri": "https://localhost:8080/",
          "height": 206
        },
        "id": "YPFbglKfsFOv",
        "outputId": "c71a5ebd-0b4e-4971-956c-46afa9bc6167"
      },
      "outputs": [
        {
          "output_type": "execute_result",
          "data": {
            "text/plain": [
              "   Rooms Type     Price  Distance  Bedroom2  Bathroom  Car  Landsize  \\\n",
              "0      2    t  930000.0       2.6       2.0       1.0  1.0      97.0   \n",
              "1      3    t  815000.0      11.0       3.0       2.0  2.0     159.0   \n",
              "2      4    h  638000.0      13.0       4.0       2.0  1.0     624.0   \n",
              "3      2    t  595000.0      11.2       2.0       2.0  1.0     201.0   \n",
              "4      3    t  620500.0      11.2       3.0       2.0  1.0     158.0   \n",
              "\n",
              "   BuildingArea  YearBuilt  CouncilArea  \n",
              "0          85.0     2004.0        Yarra  \n",
              "1         130.0     2014.0  Hobsons Bay  \n",
              "2         258.0     2005.0     Moreland  \n",
              "3         111.0     2005.0     Moreland  \n",
              "4         117.0     2011.0      Darebin  "
            ],
            "text/html": [
              "\n",
              "  <div id=\"df-2cf56e91-36f6-4978-96b0-e5c9609be7c7\">\n",
              "    <div class=\"colab-df-container\">\n",
              "      <div>\n",
              "<style scoped>\n",
              "    .dataframe tbody tr th:only-of-type {\n",
              "        vertical-align: middle;\n",
              "    }\n",
              "\n",
              "    .dataframe tbody tr th {\n",
              "        vertical-align: top;\n",
              "    }\n",
              "\n",
              "    .dataframe thead th {\n",
              "        text-align: right;\n",
              "    }\n",
              "</style>\n",
              "<table border=\"1\" class=\"dataframe\">\n",
              "  <thead>\n",
              "    <tr style=\"text-align: right;\">\n",
              "      <th></th>\n",
              "      <th>Rooms</th>\n",
              "      <th>Type</th>\n",
              "      <th>Price</th>\n",
              "      <th>Distance</th>\n",
              "      <th>Bedroom2</th>\n",
              "      <th>Bathroom</th>\n",
              "      <th>Car</th>\n",
              "      <th>Landsize</th>\n",
              "      <th>BuildingArea</th>\n",
              "      <th>YearBuilt</th>\n",
              "      <th>CouncilArea</th>\n",
              "    </tr>\n",
              "  </thead>\n",
              "  <tbody>\n",
              "    <tr>\n",
              "      <th>0</th>\n",
              "      <td>2</td>\n",
              "      <td>t</td>\n",
              "      <td>930000.0</td>\n",
              "      <td>2.6</td>\n",
              "      <td>2.0</td>\n",
              "      <td>1.0</td>\n",
              "      <td>1.0</td>\n",
              "      <td>97.0</td>\n",
              "      <td>85.0</td>\n",
              "      <td>2004.0</td>\n",
              "      <td>Yarra</td>\n",
              "    </tr>\n",
              "    <tr>\n",
              "      <th>1</th>\n",
              "      <td>3</td>\n",
              "      <td>t</td>\n",
              "      <td>815000.0</td>\n",
              "      <td>11.0</td>\n",
              "      <td>3.0</td>\n",
              "      <td>2.0</td>\n",
              "      <td>2.0</td>\n",
              "      <td>159.0</td>\n",
              "      <td>130.0</td>\n",
              "      <td>2014.0</td>\n",
              "      <td>Hobsons Bay</td>\n",
              "    </tr>\n",
              "    <tr>\n",
              "      <th>2</th>\n",
              "      <td>4</td>\n",
              "      <td>h</td>\n",
              "      <td>638000.0</td>\n",
              "      <td>13.0</td>\n",
              "      <td>4.0</td>\n",
              "      <td>2.0</td>\n",
              "      <td>1.0</td>\n",
              "      <td>624.0</td>\n",
              "      <td>258.0</td>\n",
              "      <td>2005.0</td>\n",
              "      <td>Moreland</td>\n",
              "    </tr>\n",
              "    <tr>\n",
              "      <th>3</th>\n",
              "      <td>2</td>\n",
              "      <td>t</td>\n",
              "      <td>595000.0</td>\n",
              "      <td>11.2</td>\n",
              "      <td>2.0</td>\n",
              "      <td>2.0</td>\n",
              "      <td>1.0</td>\n",
              "      <td>201.0</td>\n",
              "      <td>111.0</td>\n",
              "      <td>2005.0</td>\n",
              "      <td>Moreland</td>\n",
              "    </tr>\n",
              "    <tr>\n",
              "      <th>4</th>\n",
              "      <td>3</td>\n",
              "      <td>t</td>\n",
              "      <td>620500.0</td>\n",
              "      <td>11.2</td>\n",
              "      <td>3.0</td>\n",
              "      <td>2.0</td>\n",
              "      <td>1.0</td>\n",
              "      <td>158.0</td>\n",
              "      <td>117.0</td>\n",
              "      <td>2011.0</td>\n",
              "      <td>Darebin</td>\n",
              "    </tr>\n",
              "  </tbody>\n",
              "</table>\n",
              "</div>\n",
              "      <button class=\"colab-df-convert\" onclick=\"convertToInteractive('df-2cf56e91-36f6-4978-96b0-e5c9609be7c7')\"\n",
              "              title=\"Convert this dataframe to an interactive table.\"\n",
              "              style=\"display:none;\">\n",
              "        \n",
              "  <svg xmlns=\"http://www.w3.org/2000/svg\" height=\"24px\"viewBox=\"0 0 24 24\"\n",
              "       width=\"24px\">\n",
              "    <path d=\"M0 0h24v24H0V0z\" fill=\"none\"/>\n",
              "    <path d=\"M18.56 5.44l.94 2.06.94-2.06 2.06-.94-2.06-.94-.94-2.06-.94 2.06-2.06.94zm-11 1L8.5 8.5l.94-2.06 2.06-.94-2.06-.94L8.5 2.5l-.94 2.06-2.06.94zm10 10l.94 2.06.94-2.06 2.06-.94-2.06-.94-.94-2.06-.94 2.06-2.06.94z\"/><path d=\"M17.41 7.96l-1.37-1.37c-.4-.4-.92-.59-1.43-.59-.52 0-1.04.2-1.43.59L10.3 9.45l-7.72 7.72c-.78.78-.78 2.05 0 2.83L4 21.41c.39.39.9.59 1.41.59.51 0 1.02-.2 1.41-.59l7.78-7.78 2.81-2.81c.8-.78.8-2.07 0-2.86zM5.41 20L4 18.59l7.72-7.72 1.47 1.35L5.41 20z\"/>\n",
              "  </svg>\n",
              "      </button>\n",
              "      \n",
              "  <style>\n",
              "    .colab-df-container {\n",
              "      display:flex;\n",
              "      flex-wrap:wrap;\n",
              "      gap: 12px;\n",
              "    }\n",
              "\n",
              "    .colab-df-convert {\n",
              "      background-color: #E8F0FE;\n",
              "      border: none;\n",
              "      border-radius: 50%;\n",
              "      cursor: pointer;\n",
              "      display: none;\n",
              "      fill: #1967D2;\n",
              "      height: 32px;\n",
              "      padding: 0 0 0 0;\n",
              "      width: 32px;\n",
              "    }\n",
              "\n",
              "    .colab-df-convert:hover {\n",
              "      background-color: #E2EBFA;\n",
              "      box-shadow: 0px 1px 2px rgba(60, 64, 67, 0.3), 0px 1px 3px 1px rgba(60, 64, 67, 0.15);\n",
              "      fill: #174EA6;\n",
              "    }\n",
              "\n",
              "    [theme=dark] .colab-df-convert {\n",
              "      background-color: #3B4455;\n",
              "      fill: #D2E3FC;\n",
              "    }\n",
              "\n",
              "    [theme=dark] .colab-df-convert:hover {\n",
              "      background-color: #434B5C;\n",
              "      box-shadow: 0px 1px 3px 1px rgba(0, 0, 0, 0.15);\n",
              "      filter: drop-shadow(0px 1px 2px rgba(0, 0, 0, 0.3));\n",
              "      fill: #FFFFFF;\n",
              "    }\n",
              "  </style>\n",
              "\n",
              "      <script>\n",
              "        const buttonEl =\n",
              "          document.querySelector('#df-2cf56e91-36f6-4978-96b0-e5c9609be7c7 button.colab-df-convert');\n",
              "        buttonEl.style.display =\n",
              "          google.colab.kernel.accessAllowed ? 'block' : 'none';\n",
              "\n",
              "        async function convertToInteractive(key) {\n",
              "          const element = document.querySelector('#df-2cf56e91-36f6-4978-96b0-e5c9609be7c7');\n",
              "          const dataTable =\n",
              "            await google.colab.kernel.invokeFunction('convertToInteractive',\n",
              "                                                     [key], {});\n",
              "          if (!dataTable) return;\n",
              "\n",
              "          const docLinkHtml = 'Like what you see? Visit the ' +\n",
              "            '<a target=\"_blank\" href=https://colab.research.google.com/notebooks/data_table.ipynb>data table notebook</a>'\n",
              "            + ' to learn more about interactive tables.';\n",
              "          element.innerHTML = '';\n",
              "          dataTable['output_type'] = 'display_data';\n",
              "          await google.colab.output.renderOutput(dataTable, element);\n",
              "          const docLink = document.createElement('div');\n",
              "          docLink.innerHTML = docLinkHtml;\n",
              "          element.appendChild(docLink);\n",
              "        }\n",
              "      </script>\n",
              "    </div>\n",
              "  </div>\n",
              "  "
            ]
          },
          "metadata": {},
          "execution_count": 3
        }
      ],
      "source": [
        "df_test = pd.read_csv('https://gist.githubusercontent.com/yanyanzheng96/ec66da011b165f0e282c0c1f8447010e/raw/d02c3829a7e9db2d156ba1ab9d5bb4d18ae57be8/melb_tree_test.csv')\n",
        "df_test.head()"
      ]
    },
    {
      "cell_type": "markdown",
      "metadata": {
        "id": "tSpic2Eurmyq"
      },
      "source": [
        "## Q1 Load the Data\n",
        "Load in the melb_tree_train.csv into a dataframe, and split that dataframe into `df_X`, which contains the features of the data set (everything but `Type`), and `s_y`, the series containing just the class label (just `Type`). The lengths of `df_X` and `s_y` should match."
      ]
    },
    {
      "cell_type": "code",
      "execution_count": null,
      "metadata": {
        "id": "FnNRRkhWrmyq"
      },
      "outputs": [],
      "source": [
        "df_x = df_train\n",
        "df_x = df_x.drop(columns='Type')\n",
        "#df_x.head()\n",
        "\n",
        "s_y = df_train[['Type']]\n",
        "#s_y\n",
        "\n",
        "#len(df_x) #810\n",
        "#len(s_y) #810"
      ]
    },
    {
      "cell_type": "markdown",
      "metadata": {
        "id": "OBhSoBUYrmyq"
      },
      "source": [
        "## Q2 Implement a function to calculate entropy \n",
        "Implement a function `calc_entropy` that takes the the class label series, `s_y`, as a parameter. Implement using the definition on p128 in the DM book and only use pandas and log2 libraries"
      ]
    },
    {
      "cell_type": "code",
      "execution_count": null,
      "metadata": {
        "id": "Yv5e5k0Lrmyr"
      },
      "outputs": [],
      "source": [
        "# calc_entropy(s_y) definition\n",
        "def calc_entropy(s_y):\n",
        "  vc = s_y.value_counts(normalize=True)\n",
        "  entropy = 0\n",
        "  for i in range(0,len(vc)):\n",
        "    entropy += -(vc.iloc[i] * log2(vc.iloc[i]))\n",
        "  return entropy"
      ]
    },
    {
      "cell_type": "markdown",
      "metadata": {
        "id": "MLp2bn0Xrmyr"
      },
      "source": [
        "## Q3 Use the entropy function to\n",
        "  - (a) Calculate the entropy of the entire training set\n",
        "  - (b) Calculate the entropy of the three partitions formed from the following three intervals:\n",
        "\n",
        "(i) Landsize $\\in [0,200]$\n",
        "\n",
        "(ii) Landsize $\\in (200,450]$\n",
        "\n",
        "(iii) Landsize $\\in (450, \\infty)$"
      ]
    },
    {
      "cell_type": "code",
      "execution_count": null,
      "metadata": {
        "id": "VXttKnTirmyr",
        "colab": {
          "base_uri": "https://localhost:8080/"
        },
        "outputId": "c5f1aac9-4669-499b-c808-c8d12183ef0a"
      },
      "outputs": [
        {
          "output_type": "stream",
          "name": "stdout",
          "text": [
            "1.582533311426178\n"
          ]
        }
      ],
      "source": [
        "# The entire data set\n",
        "print(calc_entropy(s_y))"
      ]
    },
    {
      "cell_type": "code",
      "execution_count": null,
      "metadata": {
        "id": "qEm2Nbuxrmys",
        "colab": {
          "base_uri": "https://localhost:8080/"
        },
        "outputId": "6e0f2d5c-d36c-4874-ecf0-75f201c45603"
      },
      "outputs": [
        {
          "output_type": "stream",
          "name": "stdout",
          "text": [
            "1.3456432116206725\n"
          ]
        }
      ],
      "source": [
        "# Less than or equal to 200\n",
        "landsize_less_200 = df_train.loc[df_train['Landsize'] <= 200]\n",
        "print(calc_entropy(landsize_less_200['Type']))"
      ]
    },
    {
      "cell_type": "code",
      "execution_count": null,
      "metadata": {
        "id": "grNiOkRgrmys",
        "colab": {
          "base_uri": "https://localhost:8080/"
        },
        "outputId": "f74af052-2266-4bc2-b9cf-3d41d89ee60c"
      },
      "outputs": [
        {
          "output_type": "stream",
          "name": "stdout",
          "text": [
            "1.4660501816027975\n"
          ]
        }
      ],
      "source": [
        "# Between 200 and 450\n",
        "landsize_200_450 = df_train.loc[df_train['Landsize'] > 200]\n",
        "landsize_200_450 = landsize_200_450.loc[df_train['Landsize'] <= 450]\n",
        "print(calc_entropy(landsize_200_450['Type']))"
      ]
    },
    {
      "cell_type": "code",
      "execution_count": null,
      "metadata": {
        "id": "hRHOSY7Brmys",
        "colab": {
          "base_uri": "https://localhost:8080/"
        },
        "outputId": "34491fa2-3eb3-4081-f67f-36bfd7726ef1"
      },
      "outputs": [
        {
          "output_type": "stream",
          "name": "stdout",
          "text": [
            "1.09954792005911\n"
          ]
        }
      ],
      "source": [
        "# greater than 450\n",
        "landsize_greater_450 = df_train.loc[df_train['Landsize'] > 450]\n",
        "print(calc_entropy(landsize_greater_450['Type']))"
      ]
    },
    {
      "cell_type": "markdown",
      "metadata": {
        "id": "3STCrFxqrmys"
      },
      "source": [
        "## Q4 Implement a function to calculate the Gini Index\n",
        "Implement the function `calc_gini` that takes the class label series, `s_y`, as a parameter. Implement using the definition on p128 in the DM book and only use the pandas library."
      ]
    },
    {
      "cell_type": "code",
      "execution_count": null,
      "metadata": {
        "id": "9HWZHo9_rmyt"
      },
      "outputs": [],
      "source": [
        "def calc_gini( s_y ):\n",
        "  vc = s_y.value_counts(normalize=True)\n",
        "  gini = 1\n",
        "  for i in range(0,len(vc)):\n",
        "    gini -= vc.iloc[i]**2\n",
        "  return gini"
      ]
    },
    {
      "cell_type": "markdown",
      "metadata": {
        "id": "4oxrseZZrmyt"
      },
      "source": [
        "## Q5 Use the Gini Index function to\n",
        "  - (a) Calculate the Gini index of the entire training set\n",
        "  - (b) Calculate the Gini index of the three partitions formed from the following three intervals:\n",
        "\n",
        "(i) Landsize $\\in [0,200]$\n",
        "\n",
        "(ii) Landsize $\\in (200,450]$\n",
        "\n",
        "(iii) Landsize $\\in (450, \\infty)$"
      ]
    },
    {
      "cell_type": "code",
      "execution_count": null,
      "metadata": {
        "id": "hSc2RRtHrmyt",
        "colab": {
          "base_uri": "https://localhost:8080/"
        },
        "outputId": "b56dac29-b49c-4a31-d80d-621f942dff88"
      },
      "outputs": [
        {
          "output_type": "stream",
          "name": "stdout",
          "text": [
            "0.6655601280292637\n"
          ]
        }
      ],
      "source": [
        "# The entire data set\n",
        "print(calc_gini(s_y))"
      ]
    },
    {
      "cell_type": "code",
      "execution_count": null,
      "metadata": {
        "id": "M0fGwiMurmyt",
        "colab": {
          "base_uri": "https://localhost:8080/"
        },
        "outputId": "2478a2f7-fae7-436d-fbf4-3d63384742fc"
      },
      "outputs": [
        {
          "output_type": "stream",
          "name": "stdout",
          "text": [
            "0.5741211482422965\n"
          ]
        }
      ],
      "source": [
        "# Less than or equal to 200\n",
        "landsize_less_200 = df_train.loc[df_train['Landsize'] <= 200]\n",
        "print(calc_gini(landsize_less_200['Type']))"
      ]
    },
    {
      "cell_type": "code",
      "execution_count": null,
      "metadata": {
        "id": "Fik-UAdErmyu",
        "colab": {
          "base_uri": "https://localhost:8080/"
        },
        "outputId": "f45863a5-5fbe-4024-d356-6202c6afc15e"
      },
      "outputs": [
        {
          "output_type": "stream",
          "name": "stdout",
          "text": [
            "0.6101021682602731\n"
          ]
        }
      ],
      "source": [
        "# Between 200 and 450\n",
        "landsize_200_450 = df_train.loc[df_train['Landsize'] > 200]\n",
        "landsize_200_450 = landsize_200_450.loc[df_train['Landsize'] <= 450]\n",
        "print(calc_gini(landsize_200_450['Type']))"
      ]
    },
    {
      "cell_type": "code",
      "execution_count": null,
      "metadata": {
        "id": "wFRETURErmyu",
        "colab": {
          "base_uri": "https://localhost:8080/"
        },
        "outputId": "f8686986-375a-4803-bc06-76e6046204a5"
      },
      "outputs": [
        {
          "output_type": "stream",
          "name": "stdout",
          "text": [
            "0.4381934171597633\n"
          ]
        }
      ],
      "source": [
        "# greater than 450\n",
        "landsize_greater_450 = df_train.loc[df_train['Landsize'] > 450]\n",
        "print(calc_gini(landsize_greater_450['Type']))"
      ]
    },
    {
      "cell_type": "markdown",
      "metadata": {
        "id": "-nM6TlZvrmyu"
      },
      "source": [
        "## Q6 Create a decision tree \n",
        "Using [scikit-learn](https://scikit-learn.org/stable/modules/tree.html#tree) create a multi class classifer for the data set using the Entropy impurity measure and a max depth of 3.\n",
        "\n",
        "Note that scikit-learn's algorithm doesn't handle categorical data, so that needs to be preprocessed using an one hot encoding.\n",
        "\n",
        "Display the tree using `export_text` from sklearn.tree, and use that information to write some descriptive analytics on the classification of houses.  For extra fun, use the export_graphviz to draw the graph (see documentation on the [scikit-learn webpage](https://scikit-learn.org/stable/modules/tree.html#classification)). "
      ]
    },
    {
      "cell_type": "code",
      "execution_count": null,
      "metadata": {
        "id": "IT9oxFhUrmyu",
        "colab": {
          "base_uri": "https://localhost:8080/",
          "height": 505
        },
        "outputId": "d57e9373-4244-4d08-a13e-bf52a75f6e46"
      },
      "outputs": [
        {
          "output_type": "execute_result",
          "data": {
            "text/plain": [
              "     Rooms      Price  Distance  Bedroom2  Bathroom  Car  Landsize  \\\n",
              "0        2   771000.0      13.8       2.0       1.0  1.0       0.0   \n",
              "1        3   700000.0       7.9       3.0       2.0  1.0     189.0   \n",
              "2        3   975000.0      12.1       3.0       2.0  1.0     277.0   \n",
              "3        3  1290000.0       8.0       3.0       1.0  1.0     618.0   \n",
              "4        2   500000.0       4.2       2.0       1.0  1.0       0.0   \n",
              "..     ...        ...       ...       ...       ...  ...       ...   \n",
              "805      2   855000.0      11.4       2.0       1.0  1.0     158.0   \n",
              "806      2   696000.0       2.6       2.0       2.0  1.0       0.0   \n",
              "807      2   520000.0       9.9       2.0       1.0  1.0       0.0   \n",
              "808      3   815000.0       4.3       3.0       2.0  2.0     198.0   \n",
              "809      3  1302500.0      11.2       3.0       2.0  2.0       0.0   \n",
              "\n",
              "     BuildingArea  YearBuilt  Type_h  ...  CouncilArea_Maribyrnong  \\\n",
              "0            99.0     1992.0       0  ...                        0   \n",
              "1           110.0     1990.0       0  ...                        0   \n",
              "2           109.0     1975.0       0  ...                        0   \n",
              "3           132.0     1960.0       1  ...                        0   \n",
              "4            86.0     2000.0       0  ...                        0   \n",
              "..            ...        ...     ...  ...                      ...   \n",
              "805         106.0     1994.0       0  ...                        0   \n",
              "806          68.0     2008.0       0  ...                        0   \n",
              "807          82.0     2011.0       0  ...                        0   \n",
              "808         130.0     1990.0       0  ...                        1   \n",
              "809         171.0     1993.0       1  ...                        0   \n",
              "\n",
              "     CouncilArea_Melbourne  CouncilArea_Monash  CouncilArea_Moonee Valley  \\\n",
              "0                        0                   0                          0   \n",
              "1                        0                   0                          0   \n",
              "2                        0                   0                          0   \n",
              "3                        0                   0                          1   \n",
              "4                        1                   0                          0   \n",
              "..                     ...                 ...                        ...   \n",
              "805                      0                   0                          0   \n",
              "806                      0                   0                          0   \n",
              "807                      0                   0                          0   \n",
              "808                      0                   0                          0   \n",
              "809                      0                   0                          0   \n",
              "\n",
              "     CouncilArea_Moreland  CouncilArea_Port Phillip  CouncilArea_Stonnington  \\\n",
              "0                       0                         0                        0   \n",
              "1                       0                         0                        0   \n",
              "2                       0                         0                        0   \n",
              "3                       0                         0                        0   \n",
              "4                       0                         0                        0   \n",
              "..                    ...                       ...                      ...   \n",
              "805                     0                         0                        0   \n",
              "806                     0                         0                        0   \n",
              "807                     1                         0                        0   \n",
              "808                     0                         0                        0   \n",
              "809                     0                         0                        0   \n",
              "\n",
              "     CouncilArea_Whitehorse  CouncilArea_Wyndham  CouncilArea_Yarra  \n",
              "0                         0                    0                  0  \n",
              "1                         0                    0                  0  \n",
              "2                         0                    0                  0  \n",
              "3                         0                    0                  0  \n",
              "4                         0                    0                  0  \n",
              "..                      ...                  ...                ...  \n",
              "805                       0                    0                  0  \n",
              "806                       0                    0                  1  \n",
              "807                       0                    0                  0  \n",
              "808                       0                    0                  0  \n",
              "809                       0                    0                  0  \n",
              "\n",
              "[810 rows x 33 columns]"
            ],
            "text/html": [
              "\n",
              "  <div id=\"df-62ec6390-6e88-462f-ba21-00c1fc60d40a\">\n",
              "    <div class=\"colab-df-container\">\n",
              "      <div>\n",
              "<style scoped>\n",
              "    .dataframe tbody tr th:only-of-type {\n",
              "        vertical-align: middle;\n",
              "    }\n",
              "\n",
              "    .dataframe tbody tr th {\n",
              "        vertical-align: top;\n",
              "    }\n",
              "\n",
              "    .dataframe thead th {\n",
              "        text-align: right;\n",
              "    }\n",
              "</style>\n",
              "<table border=\"1\" class=\"dataframe\">\n",
              "  <thead>\n",
              "    <tr style=\"text-align: right;\">\n",
              "      <th></th>\n",
              "      <th>Rooms</th>\n",
              "      <th>Price</th>\n",
              "      <th>Distance</th>\n",
              "      <th>Bedroom2</th>\n",
              "      <th>Bathroom</th>\n",
              "      <th>Car</th>\n",
              "      <th>Landsize</th>\n",
              "      <th>BuildingArea</th>\n",
              "      <th>YearBuilt</th>\n",
              "      <th>Type_h</th>\n",
              "      <th>...</th>\n",
              "      <th>CouncilArea_Maribyrnong</th>\n",
              "      <th>CouncilArea_Melbourne</th>\n",
              "      <th>CouncilArea_Monash</th>\n",
              "      <th>CouncilArea_Moonee Valley</th>\n",
              "      <th>CouncilArea_Moreland</th>\n",
              "      <th>CouncilArea_Port Phillip</th>\n",
              "      <th>CouncilArea_Stonnington</th>\n",
              "      <th>CouncilArea_Whitehorse</th>\n",
              "      <th>CouncilArea_Wyndham</th>\n",
              "      <th>CouncilArea_Yarra</th>\n",
              "    </tr>\n",
              "  </thead>\n",
              "  <tbody>\n",
              "    <tr>\n",
              "      <th>0</th>\n",
              "      <td>2</td>\n",
              "      <td>771000.0</td>\n",
              "      <td>13.8</td>\n",
              "      <td>2.0</td>\n",
              "      <td>1.0</td>\n",
              "      <td>1.0</td>\n",
              "      <td>0.0</td>\n",
              "      <td>99.0</td>\n",
              "      <td>1992.0</td>\n",
              "      <td>0</td>\n",
              "      <td>...</td>\n",
              "      <td>0</td>\n",
              "      <td>0</td>\n",
              "      <td>0</td>\n",
              "      <td>0</td>\n",
              "      <td>0</td>\n",
              "      <td>0</td>\n",
              "      <td>0</td>\n",
              "      <td>0</td>\n",
              "      <td>0</td>\n",
              "      <td>0</td>\n",
              "    </tr>\n",
              "    <tr>\n",
              "      <th>1</th>\n",
              "      <td>3</td>\n",
              "      <td>700000.0</td>\n",
              "      <td>7.9</td>\n",
              "      <td>3.0</td>\n",
              "      <td>2.0</td>\n",
              "      <td>1.0</td>\n",
              "      <td>189.0</td>\n",
              "      <td>110.0</td>\n",
              "      <td>1990.0</td>\n",
              "      <td>0</td>\n",
              "      <td>...</td>\n",
              "      <td>0</td>\n",
              "      <td>0</td>\n",
              "      <td>0</td>\n",
              "      <td>0</td>\n",
              "      <td>0</td>\n",
              "      <td>0</td>\n",
              "      <td>0</td>\n",
              "      <td>0</td>\n",
              "      <td>0</td>\n",
              "      <td>0</td>\n",
              "    </tr>\n",
              "    <tr>\n",
              "      <th>2</th>\n",
              "      <td>3</td>\n",
              "      <td>975000.0</td>\n",
              "      <td>12.1</td>\n",
              "      <td>3.0</td>\n",
              "      <td>2.0</td>\n",
              "      <td>1.0</td>\n",
              "      <td>277.0</td>\n",
              "      <td>109.0</td>\n",
              "      <td>1975.0</td>\n",
              "      <td>0</td>\n",
              "      <td>...</td>\n",
              "      <td>0</td>\n",
              "      <td>0</td>\n",
              "      <td>0</td>\n",
              "      <td>0</td>\n",
              "      <td>0</td>\n",
              "      <td>0</td>\n",
              "      <td>0</td>\n",
              "      <td>0</td>\n",
              "      <td>0</td>\n",
              "      <td>0</td>\n",
              "    </tr>\n",
              "    <tr>\n",
              "      <th>3</th>\n",
              "      <td>3</td>\n",
              "      <td>1290000.0</td>\n",
              "      <td>8.0</td>\n",
              "      <td>3.0</td>\n",
              "      <td>1.0</td>\n",
              "      <td>1.0</td>\n",
              "      <td>618.0</td>\n",
              "      <td>132.0</td>\n",
              "      <td>1960.0</td>\n",
              "      <td>1</td>\n",
              "      <td>...</td>\n",
              "      <td>0</td>\n",
              "      <td>0</td>\n",
              "      <td>0</td>\n",
              "      <td>1</td>\n",
              "      <td>0</td>\n",
              "      <td>0</td>\n",
              "      <td>0</td>\n",
              "      <td>0</td>\n",
              "      <td>0</td>\n",
              "      <td>0</td>\n",
              "    </tr>\n",
              "    <tr>\n",
              "      <th>4</th>\n",
              "      <td>2</td>\n",
              "      <td>500000.0</td>\n",
              "      <td>4.2</td>\n",
              "      <td>2.0</td>\n",
              "      <td>1.0</td>\n",
              "      <td>1.0</td>\n",
              "      <td>0.0</td>\n",
              "      <td>86.0</td>\n",
              "      <td>2000.0</td>\n",
              "      <td>0</td>\n",
              "      <td>...</td>\n",
              "      <td>0</td>\n",
              "      <td>1</td>\n",
              "      <td>0</td>\n",
              "      <td>0</td>\n",
              "      <td>0</td>\n",
              "      <td>0</td>\n",
              "      <td>0</td>\n",
              "      <td>0</td>\n",
              "      <td>0</td>\n",
              "      <td>0</td>\n",
              "    </tr>\n",
              "    <tr>\n",
              "      <th>...</th>\n",
              "      <td>...</td>\n",
              "      <td>...</td>\n",
              "      <td>...</td>\n",
              "      <td>...</td>\n",
              "      <td>...</td>\n",
              "      <td>...</td>\n",
              "      <td>...</td>\n",
              "      <td>...</td>\n",
              "      <td>...</td>\n",
              "      <td>...</td>\n",
              "      <td>...</td>\n",
              "      <td>...</td>\n",
              "      <td>...</td>\n",
              "      <td>...</td>\n",
              "      <td>...</td>\n",
              "      <td>...</td>\n",
              "      <td>...</td>\n",
              "      <td>...</td>\n",
              "      <td>...</td>\n",
              "      <td>...</td>\n",
              "      <td>...</td>\n",
              "    </tr>\n",
              "    <tr>\n",
              "      <th>805</th>\n",
              "      <td>2</td>\n",
              "      <td>855000.0</td>\n",
              "      <td>11.4</td>\n",
              "      <td>2.0</td>\n",
              "      <td>1.0</td>\n",
              "      <td>1.0</td>\n",
              "      <td>158.0</td>\n",
              "      <td>106.0</td>\n",
              "      <td>1994.0</td>\n",
              "      <td>0</td>\n",
              "      <td>...</td>\n",
              "      <td>0</td>\n",
              "      <td>0</td>\n",
              "      <td>0</td>\n",
              "      <td>0</td>\n",
              "      <td>0</td>\n",
              "      <td>0</td>\n",
              "      <td>0</td>\n",
              "      <td>0</td>\n",
              "      <td>0</td>\n",
              "      <td>0</td>\n",
              "    </tr>\n",
              "    <tr>\n",
              "      <th>806</th>\n",
              "      <td>2</td>\n",
              "      <td>696000.0</td>\n",
              "      <td>2.6</td>\n",
              "      <td>2.0</td>\n",
              "      <td>2.0</td>\n",
              "      <td>1.0</td>\n",
              "      <td>0.0</td>\n",
              "      <td>68.0</td>\n",
              "      <td>2008.0</td>\n",
              "      <td>0</td>\n",
              "      <td>...</td>\n",
              "      <td>0</td>\n",
              "      <td>0</td>\n",
              "      <td>0</td>\n",
              "      <td>0</td>\n",
              "      <td>0</td>\n",
              "      <td>0</td>\n",
              "      <td>0</td>\n",
              "      <td>0</td>\n",
              "      <td>0</td>\n",
              "      <td>1</td>\n",
              "    </tr>\n",
              "    <tr>\n",
              "      <th>807</th>\n",
              "      <td>2</td>\n",
              "      <td>520000.0</td>\n",
              "      <td>9.9</td>\n",
              "      <td>2.0</td>\n",
              "      <td>1.0</td>\n",
              "      <td>1.0</td>\n",
              "      <td>0.0</td>\n",
              "      <td>82.0</td>\n",
              "      <td>2011.0</td>\n",
              "      <td>0</td>\n",
              "      <td>...</td>\n",
              "      <td>0</td>\n",
              "      <td>0</td>\n",
              "      <td>0</td>\n",
              "      <td>0</td>\n",
              "      <td>1</td>\n",
              "      <td>0</td>\n",
              "      <td>0</td>\n",
              "      <td>0</td>\n",
              "      <td>0</td>\n",
              "      <td>0</td>\n",
              "    </tr>\n",
              "    <tr>\n",
              "      <th>808</th>\n",
              "      <td>3</td>\n",
              "      <td>815000.0</td>\n",
              "      <td>4.3</td>\n",
              "      <td>3.0</td>\n",
              "      <td>2.0</td>\n",
              "      <td>2.0</td>\n",
              "      <td>198.0</td>\n",
              "      <td>130.0</td>\n",
              "      <td>1990.0</td>\n",
              "      <td>0</td>\n",
              "      <td>...</td>\n",
              "      <td>1</td>\n",
              "      <td>0</td>\n",
              "      <td>0</td>\n",
              "      <td>0</td>\n",
              "      <td>0</td>\n",
              "      <td>0</td>\n",
              "      <td>0</td>\n",
              "      <td>0</td>\n",
              "      <td>0</td>\n",
              "      <td>0</td>\n",
              "    </tr>\n",
              "    <tr>\n",
              "      <th>809</th>\n",
              "      <td>3</td>\n",
              "      <td>1302500.0</td>\n",
              "      <td>11.2</td>\n",
              "      <td>3.0</td>\n",
              "      <td>2.0</td>\n",
              "      <td>2.0</td>\n",
              "      <td>0.0</td>\n",
              "      <td>171.0</td>\n",
              "      <td>1993.0</td>\n",
              "      <td>1</td>\n",
              "      <td>...</td>\n",
              "      <td>0</td>\n",
              "      <td>0</td>\n",
              "      <td>0</td>\n",
              "      <td>0</td>\n",
              "      <td>0</td>\n",
              "      <td>0</td>\n",
              "      <td>0</td>\n",
              "      <td>0</td>\n",
              "      <td>0</td>\n",
              "      <td>0</td>\n",
              "    </tr>\n",
              "  </tbody>\n",
              "</table>\n",
              "<p>810 rows × 33 columns</p>\n",
              "</div>\n",
              "      <button class=\"colab-df-convert\" onclick=\"convertToInteractive('df-62ec6390-6e88-462f-ba21-00c1fc60d40a')\"\n",
              "              title=\"Convert this dataframe to an interactive table.\"\n",
              "              style=\"display:none;\">\n",
              "        \n",
              "  <svg xmlns=\"http://www.w3.org/2000/svg\" height=\"24px\"viewBox=\"0 0 24 24\"\n",
              "       width=\"24px\">\n",
              "    <path d=\"M0 0h24v24H0V0z\" fill=\"none\"/>\n",
              "    <path d=\"M18.56 5.44l.94 2.06.94-2.06 2.06-.94-2.06-.94-.94-2.06-.94 2.06-2.06.94zm-11 1L8.5 8.5l.94-2.06 2.06-.94-2.06-.94L8.5 2.5l-.94 2.06-2.06.94zm10 10l.94 2.06.94-2.06 2.06-.94-2.06-.94-.94-2.06-.94 2.06-2.06.94z\"/><path d=\"M17.41 7.96l-1.37-1.37c-.4-.4-.92-.59-1.43-.59-.52 0-1.04.2-1.43.59L10.3 9.45l-7.72 7.72c-.78.78-.78 2.05 0 2.83L4 21.41c.39.39.9.59 1.41.59.51 0 1.02-.2 1.41-.59l7.78-7.78 2.81-2.81c.8-.78.8-2.07 0-2.86zM5.41 20L4 18.59l7.72-7.72 1.47 1.35L5.41 20z\"/>\n",
              "  </svg>\n",
              "      </button>\n",
              "      \n",
              "  <style>\n",
              "    .colab-df-container {\n",
              "      display:flex;\n",
              "      flex-wrap:wrap;\n",
              "      gap: 12px;\n",
              "    }\n",
              "\n",
              "    .colab-df-convert {\n",
              "      background-color: #E8F0FE;\n",
              "      border: none;\n",
              "      border-radius: 50%;\n",
              "      cursor: pointer;\n",
              "      display: none;\n",
              "      fill: #1967D2;\n",
              "      height: 32px;\n",
              "      padding: 0 0 0 0;\n",
              "      width: 32px;\n",
              "    }\n",
              "\n",
              "    .colab-df-convert:hover {\n",
              "      background-color: #E2EBFA;\n",
              "      box-shadow: 0px 1px 2px rgba(60, 64, 67, 0.3), 0px 1px 3px 1px rgba(60, 64, 67, 0.15);\n",
              "      fill: #174EA6;\n",
              "    }\n",
              "\n",
              "    [theme=dark] .colab-df-convert {\n",
              "      background-color: #3B4455;\n",
              "      fill: #D2E3FC;\n",
              "    }\n",
              "\n",
              "    [theme=dark] .colab-df-convert:hover {\n",
              "      background-color: #434B5C;\n",
              "      box-shadow: 0px 1px 3px 1px rgba(0, 0, 0, 0.15);\n",
              "      filter: drop-shadow(0px 1px 2px rgba(0, 0, 0, 0.3));\n",
              "      fill: #FFFFFF;\n",
              "    }\n",
              "  </style>\n",
              "\n",
              "      <script>\n",
              "        const buttonEl =\n",
              "          document.querySelector('#df-62ec6390-6e88-462f-ba21-00c1fc60d40a button.colab-df-convert');\n",
              "        buttonEl.style.display =\n",
              "          google.colab.kernel.accessAllowed ? 'block' : 'none';\n",
              "\n",
              "        async function convertToInteractive(key) {\n",
              "          const element = document.querySelector('#df-62ec6390-6e88-462f-ba21-00c1fc60d40a');\n",
              "          const dataTable =\n",
              "            await google.colab.kernel.invokeFunction('convertToInteractive',\n",
              "                                                     [key], {});\n",
              "          if (!dataTable) return;\n",
              "\n",
              "          const docLinkHtml = 'Like what you see? Visit the ' +\n",
              "            '<a target=\"_blank\" href=https://colab.research.google.com/notebooks/data_table.ipynb>data table notebook</a>'\n",
              "            + ' to learn more about interactive tables.';\n",
              "          element.innerHTML = '';\n",
              "          dataTable['output_type'] = 'display_data';\n",
              "          await google.colab.output.renderOutput(dataTable, element);\n",
              "          const docLink = document.createElement('div');\n",
              "          docLink.innerHTML = docLinkHtml;\n",
              "          element.appendChild(docLink);\n",
              "        }\n",
              "      </script>\n",
              "    </div>\n",
              "  </div>\n",
              "  "
            ]
          },
          "metadata": {},
          "execution_count": 15
        }
      ],
      "source": [
        "# Create Tree\n",
        "df_train_dummies = pd.get_dummies(df_train, columns=[\"Type\",\"CouncilArea\"])\n",
        "df_train_dummies"
      ]
    },
    {
      "cell_type": "code",
      "execution_count": null,
      "metadata": {
        "id": "ZeXj95cSrmyv",
        "colab": {
          "base_uri": "https://localhost:8080/"
        },
        "outputId": "c113d782-9292-443c-f1a9-6714ddc1de17"
      },
      "outputs": [
        {
          "output_type": "stream",
          "name": "stdout",
          "text": [
            "|--- feature_7 <= 99.50\n",
            "|   |--- feature_6 <= 76.00\n",
            "|   |   |--- feature_7 <= 81.50\n",
            "|   |   |   |--- class: 0\n",
            "|   |   |--- feature_7 >  81.50\n",
            "|   |   |   |--- class: 0\n",
            "|   |--- feature_6 >  76.00\n",
            "|   |   |--- feature_8 <= 1957.50\n",
            "|   |   |   |--- class: 1\n",
            "|   |   |--- feature_8 >  1957.50\n",
            "|   |   |   |--- class: 0\n",
            "|--- feature_7 >  99.50\n",
            "|   |--- feature_8 <= 1976.50\n",
            "|   |   |--- feature_6 <= 429.00\n",
            "|   |   |   |--- class: 1\n",
            "|   |   |--- feature_6 >  429.00\n",
            "|   |   |   |--- class: 1\n",
            "|   |--- feature_8 >  1976.50\n",
            "|   |   |--- feature_6 <= 443.50\n",
            "|   |   |   |--- class: 0\n",
            "|   |   |--- feature_6 >  443.50\n",
            "|   |   |   |--- class: 2\n",
            "\n"
          ]
        }
      ],
      "source": [
        "# Display text version of the tree\n",
        "df_train_inputs = df_train_dummies.drop(columns=['Type_h','Type_t','Type_u'])\n",
        "df_train_outputs = df_train_dummies[['Type_h','Type_t','Type_u']]\n",
        "clf = tree.DecisionTreeClassifier(criterion='entropy', max_depth=3)\n",
        "clf = clf.fit(df_train_inputs,df_train_outputs)\n",
        "r = tree.export_text(clf)\n",
        "print(r)"
      ]
    },
    {
      "cell_type": "code",
      "execution_count": null,
      "metadata": {
        "id": "XFaREA6Frmyv",
        "colab": {
          "base_uri": "https://localhost:8080/",
          "height": 698
        },
        "outputId": "58285685-b8d5-407c-fe2b-e48ea362731c"
      },
      "outputs": [
        {
          "output_type": "execute_result",
          "data": {
            "text/plain": [
              "<graphviz.files.Source at 0x7f36e2ca5b50>"
            ],
            "image/svg+xml": "<?xml version=\"1.0\" encoding=\"UTF-8\" standalone=\"no\"?>\n<!DOCTYPE svg PUBLIC \"-//W3C//DTD SVG 1.1//EN\"\n \"http://www.w3.org/Graphics/SVG/1.1/DTD/svg11.dtd\">\n<!-- Generated by graphviz version 2.43.0 (0)\n -->\n<!-- Title: Tree Pages: 1 -->\n<svg width=\"1040pt\" height=\"493pt\"\n viewBox=\"0.00 0.00 1040.00 493.00\" xmlns=\"http://www.w3.org/2000/svg\" xmlns:xlink=\"http://www.w3.org/1999/xlink\">\n<g id=\"graph0\" class=\"graph\" transform=\"scale(1 1) rotate(0) translate(4 489)\">\n<title>Tree</title>\n<polygon fill=\"white\" stroke=\"transparent\" points=\"-4,4 -4,-489 1036,-489 1036,4 -4,4\"/>\n<!-- 0 -->\n<g id=\"node1\" class=\"node\">\n<title>0</title>\n<polygon fill=\"none\" stroke=\"black\" points=\"566.5,-485 438.5,-485 438.5,-387 566.5,-387 566.5,-485\"/>\n<text text-anchor=\"middle\" x=\"502.5\" y=\"-469.8\" font-family=\"Helvetica,sans-Serif\" font-size=\"14.00\">X[7] &lt;= 99.5</text>\n<text text-anchor=\"middle\" x=\"502.5\" y=\"-454.8\" font-family=\"Helvetica,sans-Serif\" font-size=\"14.00\">entropy = 0.917</text>\n<text text-anchor=\"middle\" x=\"502.5\" y=\"-439.8\" font-family=\"Helvetica,sans-Serif\" font-size=\"14.00\">samples = 810</text>\n<text text-anchor=\"middle\" x=\"502.5\" y=\"-424.8\" font-family=\"Helvetica,sans-Serif\" font-size=\"14.00\">value = [[562, 248]</text>\n<text text-anchor=\"middle\" x=\"502.5\" y=\"-409.8\" font-family=\"Helvetica,sans-Serif\" font-size=\"14.00\">[529, 281]</text>\n<text text-anchor=\"middle\" x=\"502.5\" y=\"-394.8\" font-family=\"Helvetica,sans-Serif\" font-size=\"14.00\">[529, 281]]</text>\n</g>\n<!-- 1 -->\n<g id=\"node2\" class=\"node\">\n<title>1</title>\n<polygon fill=\"none\" stroke=\"black\" points=\"436,-351 315,-351 315,-253 436,-253 436,-351\"/>\n<text text-anchor=\"middle\" x=\"375.5\" y=\"-335.8\" font-family=\"Helvetica,sans-Serif\" font-size=\"14.00\">X[6] &lt;= 76.0</text>\n<text text-anchor=\"middle\" x=\"375.5\" y=\"-320.8\" font-family=\"Helvetica,sans-Serif\" font-size=\"14.00\">entropy = 0.666</text>\n<text text-anchor=\"middle\" x=\"375.5\" y=\"-305.8\" font-family=\"Helvetica,sans-Serif\" font-size=\"14.00\">samples = 291</text>\n<text text-anchor=\"middle\" x=\"375.5\" y=\"-290.8\" font-family=\"Helvetica,sans-Serif\" font-size=\"14.00\">value = [[257, 34]</text>\n<text text-anchor=\"middle\" x=\"375.5\" y=\"-275.8\" font-family=\"Helvetica,sans-Serif\" font-size=\"14.00\">[245, 46]</text>\n<text text-anchor=\"middle\" x=\"375.5\" y=\"-260.8\" font-family=\"Helvetica,sans-Serif\" font-size=\"14.00\">[80, 211]]</text>\n</g>\n<!-- 0&#45;&gt;1 -->\n<g id=\"edge1\" class=\"edge\">\n<title>0&#45;&gt;1</title>\n<path fill=\"none\" stroke=\"black\" d=\"M456.29,-386.97C447.45,-377.78 438.12,-368.09 429.07,-358.68\"/>\n<polygon fill=\"black\" stroke=\"black\" points=\"431.34,-355.99 421.89,-351.21 426.3,-360.85 431.34,-355.99\"/>\n<text text-anchor=\"middle\" x=\"421.41\" y=\"-372.51\" font-family=\"Helvetica,sans-Serif\" font-size=\"14.00\">True</text>\n</g>\n<!-- 8 -->\n<g id=\"node9\" class=\"node\">\n<title>8</title>\n<polygon fill=\"none\" stroke=\"black\" points=\"701.5,-351 573.5,-351 573.5,-253 701.5,-253 701.5,-351\"/>\n<text text-anchor=\"middle\" x=\"637.5\" y=\"-335.8\" font-family=\"Helvetica,sans-Serif\" font-size=\"14.00\">X[8] &lt;= 1976.5</text>\n<text text-anchor=\"middle\" x=\"637.5\" y=\"-320.8\" font-family=\"Helvetica,sans-Serif\" font-size=\"14.00\">entropy = 0.847</text>\n<text text-anchor=\"middle\" x=\"637.5\" y=\"-305.8\" font-family=\"Helvetica,sans-Serif\" font-size=\"14.00\">samples = 519</text>\n<text text-anchor=\"middle\" x=\"637.5\" y=\"-290.8\" font-family=\"Helvetica,sans-Serif\" font-size=\"14.00\">value = [[305, 214]</text>\n<text text-anchor=\"middle\" x=\"637.5\" y=\"-275.8\" font-family=\"Helvetica,sans-Serif\" font-size=\"14.00\">[284, 235]</text>\n<text text-anchor=\"middle\" x=\"637.5\" y=\"-260.8\" font-family=\"Helvetica,sans-Serif\" font-size=\"14.00\">[449, 70]]</text>\n</g>\n<!-- 0&#45;&gt;8 -->\n<g id=\"edge8\" class=\"edge\">\n<title>0&#45;&gt;8</title>\n<path fill=\"none\" stroke=\"black\" d=\"M551.62,-386.97C561.11,-377.69 571.13,-367.9 580.84,-358.4\"/>\n<polygon fill=\"black\" stroke=\"black\" points=\"583.49,-360.71 588.19,-351.21 578.59,-355.7 583.49,-360.71\"/>\n<text text-anchor=\"middle\" x=\"587.91\" y=\"-372.51\" font-family=\"Helvetica,sans-Serif\" font-size=\"14.00\">False</text>\n</g>\n<!-- 2 -->\n<g id=\"node3\" class=\"node\">\n<title>2</title>\n<polygon fill=\"none\" stroke=\"black\" points=\"241,-217 128,-217 128,-119 241,-119 241,-217\"/>\n<text text-anchor=\"middle\" x=\"184.5\" y=\"-201.8\" font-family=\"Helvetica,sans-Serif\" font-size=\"14.00\">X[7] &lt;= 81.5</text>\n<text text-anchor=\"middle\" x=\"184.5\" y=\"-186.8\" font-family=\"Helvetica,sans-Serif\" font-size=\"14.00\">entropy = 0.258</text>\n<text text-anchor=\"middle\" x=\"184.5\" y=\"-171.8\" font-family=\"Helvetica,sans-Serif\" font-size=\"14.00\">samples = 141</text>\n<text text-anchor=\"middle\" x=\"184.5\" y=\"-156.8\" font-family=\"Helvetica,sans-Serif\" font-size=\"14.00\">value = [[140, 1]</text>\n<text text-anchor=\"middle\" x=\"184.5\" y=\"-141.8\" font-family=\"Helvetica,sans-Serif\" font-size=\"14.00\">[132, 9]</text>\n<text text-anchor=\"middle\" x=\"184.5\" y=\"-126.8\" font-family=\"Helvetica,sans-Serif\" font-size=\"14.00\">[10, 131]]</text>\n</g>\n<!-- 1&#45;&gt;2 -->\n<g id=\"edge2\" class=\"edge\">\n<title>1&#45;&gt;2</title>\n<path fill=\"none\" stroke=\"black\" d=\"M314.8,-259.05C293.97,-244.66 270.59,-228.49 249.43,-213.88\"/>\n<polygon fill=\"black\" stroke=\"black\" points=\"251.36,-210.95 241.14,-208.14 247.38,-216.71 251.36,-210.95\"/>\n</g>\n<!-- 5 -->\n<g id=\"node6\" class=\"node\">\n<title>5</title>\n<polygon fill=\"none\" stroke=\"black\" points=\"436,-217 315,-217 315,-119 436,-119 436,-217\"/>\n<text text-anchor=\"middle\" x=\"375.5\" y=\"-201.8\" font-family=\"Helvetica,sans-Serif\" font-size=\"14.00\">X[8] &lt;= 1957.5</text>\n<text text-anchor=\"middle\" x=\"375.5\" y=\"-186.8\" font-family=\"Helvetica,sans-Serif\" font-size=\"14.00\">entropy = 0.854</text>\n<text text-anchor=\"middle\" x=\"375.5\" y=\"-171.8\" font-family=\"Helvetica,sans-Serif\" font-size=\"14.00\">samples = 150</text>\n<text text-anchor=\"middle\" x=\"375.5\" y=\"-156.8\" font-family=\"Helvetica,sans-Serif\" font-size=\"14.00\">value = [[117, 33]</text>\n<text text-anchor=\"middle\" x=\"375.5\" y=\"-141.8\" font-family=\"Helvetica,sans-Serif\" font-size=\"14.00\">[113, 37]</text>\n<text text-anchor=\"middle\" x=\"375.5\" y=\"-126.8\" font-family=\"Helvetica,sans-Serif\" font-size=\"14.00\">[70, 80]]</text>\n</g>\n<!-- 1&#45;&gt;5 -->\n<g id=\"edge5\" class=\"edge\">\n<title>1&#45;&gt;5</title>\n<path fill=\"none\" stroke=\"black\" d=\"M375.5,-252.97C375.5,-244.69 375.5,-236 375.5,-227.48\"/>\n<polygon fill=\"black\" stroke=\"black\" points=\"379,-227.21 375.5,-217.21 372,-227.21 379,-227.21\"/>\n</g>\n<!-- 3 -->\n<g id=\"node4\" class=\"node\">\n<title>3</title>\n<polygon fill=\"none\" stroke=\"black\" points=\"113,-83 0,-83 0,0 113,0 113,-83\"/>\n<text text-anchor=\"middle\" x=\"56.5\" y=\"-67.8\" font-family=\"Helvetica,sans-Serif\" font-size=\"14.00\">entropy = 0.128</text>\n<text text-anchor=\"middle\" x=\"56.5\" y=\"-52.8\" font-family=\"Helvetica,sans-Serif\" font-size=\"14.00\">samples = 102</text>\n<text text-anchor=\"middle\" x=\"56.5\" y=\"-37.8\" font-family=\"Helvetica,sans-Serif\" font-size=\"14.00\">value = [[102, 0]</text>\n<text text-anchor=\"middle\" x=\"56.5\" y=\"-22.8\" font-family=\"Helvetica,sans-Serif\" font-size=\"14.00\">[99, 3]</text>\n<text text-anchor=\"middle\" x=\"56.5\" y=\"-7.8\" font-family=\"Helvetica,sans-Serif\" font-size=\"14.00\">[3, 99]]</text>\n</g>\n<!-- 2&#45;&gt;3 -->\n<g id=\"edge3\" class=\"edge\">\n<title>2&#45;&gt;3</title>\n<path fill=\"none\" stroke=\"black\" d=\"M135.01,-118.87C125.37,-109.49 115.26,-99.66 105.63,-90.29\"/>\n<polygon fill=\"black\" stroke=\"black\" points=\"107.98,-87.69 98.38,-83.23 103.1,-92.71 107.98,-87.69\"/>\n</g>\n<!-- 4 -->\n<g id=\"node5\" class=\"node\">\n<title>4</title>\n<polygon fill=\"none\" stroke=\"black\" points=\"237.5,-83 131.5,-83 131.5,0 237.5,0 237.5,-83\"/>\n<text text-anchor=\"middle\" x=\"184.5\" y=\"-67.8\" font-family=\"Helvetica,sans-Serif\" font-size=\"14.00\">entropy = 0.49</text>\n<text text-anchor=\"middle\" x=\"184.5\" y=\"-52.8\" font-family=\"Helvetica,sans-Serif\" font-size=\"14.00\">samples = 39</text>\n<text text-anchor=\"middle\" x=\"184.5\" y=\"-37.8\" font-family=\"Helvetica,sans-Serif\" font-size=\"14.00\">value = [[38, 1]</text>\n<text text-anchor=\"middle\" x=\"184.5\" y=\"-22.8\" font-family=\"Helvetica,sans-Serif\" font-size=\"14.00\">[33, 6]</text>\n<text text-anchor=\"middle\" x=\"184.5\" y=\"-7.8\" font-family=\"Helvetica,sans-Serif\" font-size=\"14.00\">[7, 32]]</text>\n</g>\n<!-- 2&#45;&gt;4 -->\n<g id=\"edge4\" class=\"edge\">\n<title>2&#45;&gt;4</title>\n<path fill=\"none\" stroke=\"black\" d=\"M184.5,-118.87C184.5,-110.5 184.5,-101.77 184.5,-93.33\"/>\n<polygon fill=\"black\" stroke=\"black\" points=\"188,-93.23 184.5,-83.23 181,-93.23 188,-93.23\"/>\n</g>\n<!-- 6 -->\n<g id=\"node7\" class=\"node\">\n<title>6</title>\n<polygon fill=\"none\" stroke=\"black\" points=\"369,-83 256,-83 256,0 369,0 369,-83\"/>\n<text text-anchor=\"middle\" x=\"312.5\" y=\"-67.8\" font-family=\"Helvetica,sans-Serif\" font-size=\"14.00\">entropy = 0.693</text>\n<text text-anchor=\"middle\" x=\"312.5\" y=\"-52.8\" font-family=\"Helvetica,sans-Serif\" font-size=\"14.00\">samples = 36</text>\n<text text-anchor=\"middle\" x=\"312.5\" y=\"-37.8\" font-family=\"Helvetica,sans-Serif\" font-size=\"14.00\">value = [[12, 24]</text>\n<text text-anchor=\"middle\" x=\"312.5\" y=\"-22.8\" font-family=\"Helvetica,sans-Serif\" font-size=\"14.00\">[34, 2]</text>\n<text text-anchor=\"middle\" x=\"312.5\" y=\"-7.8\" font-family=\"Helvetica,sans-Serif\" font-size=\"14.00\">[26, 10]]</text>\n</g>\n<!-- 5&#45;&gt;6 -->\n<g id=\"edge6\" class=\"edge\">\n<title>5&#45;&gt;6</title>\n<path fill=\"none\" stroke=\"black\" d=\"M351.14,-118.87C346.72,-110.13 342.1,-101 337.66,-92.22\"/>\n<polygon fill=\"black\" stroke=\"black\" points=\"340.75,-90.57 333.11,-83.23 334.5,-93.73 340.75,-90.57\"/>\n</g>\n<!-- 7 -->\n<g id=\"node8\" class=\"node\">\n<title>7</title>\n<polygon fill=\"none\" stroke=\"black\" points=\"500,-83 387,-83 387,0 500,0 500,-83\"/>\n<text text-anchor=\"middle\" x=\"443.5\" y=\"-67.8\" font-family=\"Helvetica,sans-Serif\" font-size=\"14.00\">entropy = 0.75</text>\n<text text-anchor=\"middle\" x=\"443.5\" y=\"-52.8\" font-family=\"Helvetica,sans-Serif\" font-size=\"14.00\">samples = 114</text>\n<text text-anchor=\"middle\" x=\"443.5\" y=\"-37.8\" font-family=\"Helvetica,sans-Serif\" font-size=\"14.00\">value = [[105, 9]</text>\n<text text-anchor=\"middle\" x=\"443.5\" y=\"-22.8\" font-family=\"Helvetica,sans-Serif\" font-size=\"14.00\">[79, 35]</text>\n<text text-anchor=\"middle\" x=\"443.5\" y=\"-7.8\" font-family=\"Helvetica,sans-Serif\" font-size=\"14.00\">[44, 70]]</text>\n</g>\n<!-- 5&#45;&gt;7 -->\n<g id=\"edge7\" class=\"edge\">\n<title>5&#45;&gt;7</title>\n<path fill=\"none\" stroke=\"black\" d=\"M401.79,-118.87C406.56,-110.13 411.55,-101 416.34,-92.22\"/>\n<polygon fill=\"black\" stroke=\"black\" points=\"419.53,-93.68 421.25,-83.23 413.39,-90.33 419.53,-93.68\"/>\n</g>\n<!-- 9 -->\n<g id=\"node10\" class=\"node\">\n<title>9</title>\n<polygon fill=\"none\" stroke=\"black\" points=\"698,-217 577,-217 577,-119 698,-119 698,-217\"/>\n<text text-anchor=\"middle\" x=\"637.5\" y=\"-201.8\" font-family=\"Helvetica,sans-Serif\" font-size=\"14.00\">X[6] &lt;= 429.0</text>\n<text text-anchor=\"middle\" x=\"637.5\" y=\"-186.8\" font-family=\"Helvetica,sans-Serif\" font-size=\"14.00\">entropy = 0.535</text>\n<text text-anchor=\"middle\" x=\"637.5\" y=\"-171.8\" font-family=\"Helvetica,sans-Serif\" font-size=\"14.00\">samples = 204</text>\n<text text-anchor=\"middle\" x=\"637.5\" y=\"-156.8\" font-family=\"Helvetica,sans-Serif\" font-size=\"14.00\">value = [[39, 165]</text>\n<text text-anchor=\"middle\" x=\"637.5\" y=\"-141.8\" font-family=\"Helvetica,sans-Serif\" font-size=\"14.00\">[189, 15]</text>\n<text text-anchor=\"middle\" x=\"637.5\" y=\"-126.8\" font-family=\"Helvetica,sans-Serif\" font-size=\"14.00\">[180, 24]]</text>\n</g>\n<!-- 8&#45;&gt;9 -->\n<g id=\"edge9\" class=\"edge\">\n<title>8&#45;&gt;9</title>\n<path fill=\"none\" stroke=\"black\" d=\"M637.5,-252.97C637.5,-244.69 637.5,-236 637.5,-227.48\"/>\n<polygon fill=\"black\" stroke=\"black\" points=\"641,-227.21 637.5,-217.21 634,-227.21 641,-227.21\"/>\n</g>\n<!-- 12 -->\n<g id=\"node13\" class=\"node\">\n<title>12</title>\n<polygon fill=\"none\" stroke=\"black\" points=\"901,-217 780,-217 780,-119 901,-119 901,-217\"/>\n<text text-anchor=\"middle\" x=\"840.5\" y=\"-201.8\" font-family=\"Helvetica,sans-Serif\" font-size=\"14.00\">X[6] &lt;= 443.5</text>\n<text text-anchor=\"middle\" x=\"840.5\" y=\"-186.8\" font-family=\"Helvetica,sans-Serif\" font-size=\"14.00\">entropy = 0.702</text>\n<text text-anchor=\"middle\" x=\"840.5\" y=\"-171.8\" font-family=\"Helvetica,sans-Serif\" font-size=\"14.00\">samples = 315</text>\n<text text-anchor=\"middle\" x=\"840.5\" y=\"-156.8\" font-family=\"Helvetica,sans-Serif\" font-size=\"14.00\">value = [[266, 49]</text>\n<text text-anchor=\"middle\" x=\"840.5\" y=\"-141.8\" font-family=\"Helvetica,sans-Serif\" font-size=\"14.00\">[95, 220]</text>\n<text text-anchor=\"middle\" x=\"840.5\" y=\"-126.8\" font-family=\"Helvetica,sans-Serif\" font-size=\"14.00\">[269, 46]]</text>\n</g>\n<!-- 8&#45;&gt;12 -->\n<g id=\"edge12\" class=\"edge\">\n<title>8&#45;&gt;12</title>\n<path fill=\"none\" stroke=\"black\" d=\"M701.73,-259.23C723.88,-244.83 748.77,-228.65 771.29,-214\"/>\n<polygon fill=\"black\" stroke=\"black\" points=\"773.32,-216.86 779.8,-208.47 769.51,-210.99 773.32,-216.86\"/>\n</g>\n<!-- 10 -->\n<g id=\"node11\" class=\"node\">\n<title>10</title>\n<polygon fill=\"none\" stroke=\"black\" points=\"631,-83 518,-83 518,0 631,0 631,-83\"/>\n<text text-anchor=\"middle\" x=\"574.5\" y=\"-67.8\" font-family=\"Helvetica,sans-Serif\" font-size=\"14.00\">entropy = 0.793</text>\n<text text-anchor=\"middle\" x=\"574.5\" y=\"-52.8\" font-family=\"Helvetica,sans-Serif\" font-size=\"14.00\">samples = 84</text>\n<text text-anchor=\"middle\" x=\"574.5\" y=\"-37.8\" font-family=\"Helvetica,sans-Serif\" font-size=\"14.00\">value = [[33, 51]</text>\n<text text-anchor=\"middle\" x=\"574.5\" y=\"-22.8\" font-family=\"Helvetica,sans-Serif\" font-size=\"14.00\">[71, 13]</text>\n<text text-anchor=\"middle\" x=\"574.5\" y=\"-7.8\" font-family=\"Helvetica,sans-Serif\" font-size=\"14.00\">[64, 20]]</text>\n</g>\n<!-- 9&#45;&gt;10 -->\n<g id=\"edge10\" class=\"edge\">\n<title>9&#45;&gt;10</title>\n<path fill=\"none\" stroke=\"black\" d=\"M613.14,-118.87C608.72,-110.13 604.1,-101 599.66,-92.22\"/>\n<polygon fill=\"black\" stroke=\"black\" points=\"602.75,-90.57 595.11,-83.23 596.5,-93.73 602.75,-90.57\"/>\n</g>\n<!-- 11 -->\n<g id=\"node12\" class=\"node\">\n<title>11</title>\n<polygon fill=\"none\" stroke=\"black\" points=\"762,-83 649,-83 649,0 762,0 762,-83\"/>\n<text text-anchor=\"middle\" x=\"705.5\" y=\"-67.8\" font-family=\"Helvetica,sans-Serif\" font-size=\"14.00\">entropy = 0.207</text>\n<text text-anchor=\"middle\" x=\"705.5\" y=\"-52.8\" font-family=\"Helvetica,sans-Serif\" font-size=\"14.00\">samples = 120</text>\n<text text-anchor=\"middle\" x=\"705.5\" y=\"-37.8\" font-family=\"Helvetica,sans-Serif\" font-size=\"14.00\">value = [[6, 114]</text>\n<text text-anchor=\"middle\" x=\"705.5\" y=\"-22.8\" font-family=\"Helvetica,sans-Serif\" font-size=\"14.00\">[118, 2]</text>\n<text text-anchor=\"middle\" x=\"705.5\" y=\"-7.8\" font-family=\"Helvetica,sans-Serif\" font-size=\"14.00\">[116, 4]]</text>\n</g>\n<!-- 9&#45;&gt;11 -->\n<g id=\"edge11\" class=\"edge\">\n<title>9&#45;&gt;11</title>\n<path fill=\"none\" stroke=\"black\" d=\"M663.79,-118.87C668.56,-110.13 673.55,-101 678.34,-92.22\"/>\n<polygon fill=\"black\" stroke=\"black\" points=\"681.53,-93.68 683.25,-83.23 675.39,-90.33 681.53,-93.68\"/>\n</g>\n<!-- 13 -->\n<g id=\"node14\" class=\"node\">\n<title>13</title>\n<polygon fill=\"none\" stroke=\"black\" points=\"901,-83 780,-83 780,0 901,0 901,-83\"/>\n<text text-anchor=\"middle\" x=\"840.5\" y=\"-67.8\" font-family=\"Helvetica,sans-Serif\" font-size=\"14.00\">entropy = 0.589</text>\n<text text-anchor=\"middle\" x=\"840.5\" y=\"-52.8\" font-family=\"Helvetica,sans-Serif\" font-size=\"14.00\">samples = 270</text>\n<text text-anchor=\"middle\" x=\"840.5\" y=\"-37.8\" font-family=\"Helvetica,sans-Serif\" font-size=\"14.00\">value = [[250, 20]</text>\n<text text-anchor=\"middle\" x=\"840.5\" y=\"-22.8\" font-family=\"Helvetica,sans-Serif\" font-size=\"14.00\">[61, 209]</text>\n<text text-anchor=\"middle\" x=\"840.5\" y=\"-7.8\" font-family=\"Helvetica,sans-Serif\" font-size=\"14.00\">[229, 41]]</text>\n</g>\n<!-- 12&#45;&gt;13 -->\n<g id=\"edge13\" class=\"edge\">\n<title>12&#45;&gt;13</title>\n<path fill=\"none\" stroke=\"black\" d=\"M840.5,-118.87C840.5,-110.5 840.5,-101.77 840.5,-93.33\"/>\n<polygon fill=\"black\" stroke=\"black\" points=\"844,-93.23 840.5,-83.23 837,-93.23 844,-93.23\"/>\n</g>\n<!-- 14 -->\n<g id=\"node15\" class=\"node\">\n<title>14</title>\n<polygon fill=\"none\" stroke=\"black\" points=\"1032,-83 919,-83 919,0 1032,0 1032,-83\"/>\n<text text-anchor=\"middle\" x=\"975.5\" y=\"-67.8\" font-family=\"Helvetica,sans-Serif\" font-size=\"14.00\">entropy = 0.748</text>\n<text text-anchor=\"middle\" x=\"975.5\" y=\"-52.8\" font-family=\"Helvetica,sans-Serif\" font-size=\"14.00\">samples = 45</text>\n<text text-anchor=\"middle\" x=\"975.5\" y=\"-37.8\" font-family=\"Helvetica,sans-Serif\" font-size=\"14.00\">value = [[16, 29]</text>\n<text text-anchor=\"middle\" x=\"975.5\" y=\"-22.8\" font-family=\"Helvetica,sans-Serif\" font-size=\"14.00\">[34, 11]</text>\n<text text-anchor=\"middle\" x=\"975.5\" y=\"-7.8\" font-family=\"Helvetica,sans-Serif\" font-size=\"14.00\">[40, 5]]</text>\n</g>\n<!-- 12&#45;&gt;14 -->\n<g id=\"edge14\" class=\"edge\">\n<title>12&#45;&gt;14</title>\n<path fill=\"none\" stroke=\"black\" d=\"M892.69,-118.87C902.96,-109.39 913.73,-99.46 923.98,-90.01\"/>\n<polygon fill=\"black\" stroke=\"black\" points=\"926.36,-92.58 931.33,-83.23 921.61,-87.44 926.36,-92.58\"/>\n</g>\n</g>\n</svg>\n"
          },
          "metadata": {},
          "execution_count": 17
        }
      ],
      "source": [
        "# Display graphviz version of the tree\n",
        "dot_data = tree.export_graphviz(clf) \n",
        "graph = graphviz.Source(dot_data) \n",
        "graph"
      ]
    },
    {
      "cell_type": "markdown",
      "metadata": {
        "id": "UtkL3I7Irmyv"
      },
      "source": [
        "➡️ Answer containing your descriptive analytics in markdown here ⬅️\n",
        "\n",
        "This decision tree has three attributes: BuildingArea, Landsize, and YearBuilt. \n",
        "\n",
        "The tree first splits based on whether a house is less than or equal to 99.5 (meters squared) in BuildingArea.\n",
        "\n",
        ">  For houses with less than or equal to 99.5 meters squared in BuildingArea, the house is then split based on whether the house has a Landsize of less than or equal to 76 (meters squared)\n",
        "\n",
        "* Houses less than or equal to 99.5 meters squared in BuildingArea and less than or equal to 76 meters squared in Landsize are then split based on whether the house is less than or equal to 81.5 (meters squared) in BuildingArea\n",
        "\n",
        "* Houses less than or equal to 99.5 meters squared in BuildingArea and more than 76 meters squared in Landsize are then split based on whether the house was built at or before 1957\n",
        "\n",
        ">  For houses more than 99.5 meters squared in BuildingArea, the house is then split based on whether the house was built at or before 1976\n",
        "\n",
        "* Houses more than 99.5 meters squared in BuildingArea and built at or before 1976 are then split based on whether the house has a Landsize of less than or equal to 429 (meters squared)\n",
        "\n",
        "* Houses more than 99.5 meters squared in BuildingArea and built after 1976 are then split based on whether the house has a Landsize of less than or equal to 443.5 (meters squared)\n",
        "\n",
        "We see that entropy decreases with depth. Specifically, houses less than or equal to 81.5 meters squared in BuildingArea and less than or equal to 76 meters squared in Landsize category had the lowest entropy at 0.128.\n"
      ]
    },
    {
      "cell_type": "markdown",
      "metadata": {
        "id": "jw32op9grmyv"
      },
      "source": [
        "## Q7 Calculate the Accuracy and Display Learning Curve\n",
        "Load in the test data from melb_tree_test.csv.\n",
        "\n",
        "Use the scikit-learn library to create many decision trees, each one with a different configuration (aka Hyperparameters).  You will create 28 different trees by:\n",
        "\n",
        "    - Varying the max depth from 2 to 15 with the Gini Index as the impurity measure\n",
        "    - Varying the max depth from 2 to 15 with the Entropy as the impurity measure\n",
        "\n",
        "Implementation tip: you can create an array of numbers from 2 to 15 by using the numpy function [arange](https://numpy.org/doc/stable/reference/generated/numpy.arange.html).\n",
        "\n",
        "For each of the 28 decistion trees, calculate the error rate by using the data in the: \n",
        "  - Training set, and\n",
        "  - Test set.\n",
        "\n",
        "Display the results graphicaly, and offer an analysis of the trend (or if no trend present, offer a hypotheisis of why).  The max depth should be on the x-axis, and the error rate should be on the y-axis (see figure 3.23 in your DM textbook for a similar style of graph that uses leaf nodes instead of depth for the x-axis). Your plot will include 4 series of data\n",
        "   - Test error (entropy)\n",
        "   - Test error (gini index)\n",
        "   - Training error (entropy)\n",
        "   - Training error (gini index)"
      ]
    },
    {
      "cell_type": "code",
      "execution_count": null,
      "metadata": {
        "id": "6Y7YProxrmyw"
      },
      "outputs": [],
      "source": [
        "# Load in the test data\n",
        "df_test_q7 = pd.get_dummies(df_test, columns=['Type', 'CouncilArea'])\n",
        "df_test_inputs = df_test_q7.drop(columns=['Type_h','Type_t','Type_u'])\n",
        "df_test_outputs = df_test_q7[['Type_h','Type_t','Type_u']]"
      ]
    },
    {
      "cell_type": "code",
      "execution_count": null,
      "metadata": {
        "id": "Mn7Ocq2zrmyw"
      },
      "outputs": [],
      "source": [
        "# Build the trees using the training data\n",
        "def error_rate(train_input, train_output, test_input, test_output, crit):\n",
        "  error_list = []\n",
        "  test_output = test_output.to_numpy()\n",
        "  for i in range(2, 16): \n",
        "    num_correct = 0\n",
        "    clf = tree.DecisionTreeClassifier(criterion= crit, max_depth=i)\n",
        "    clf = clf.fit(train_input,train_output)\n",
        "    y_hat = clf.predict(test_input)\n",
        "\n",
        "    for i in range(len(y_hat)):\n",
        "      if np.all(y_hat[i] == test_output[i]):\n",
        "        num_correct += 1\n",
        "    \n",
        "    error_list.append(1-(num_correct/len(y_hat)))\n",
        "  \n",
        "  return error_list"
      ]
    },
    {
      "cell_type": "code",
      "execution_count": null,
      "metadata": {
        "id": "E-z2Clf2rmyw"
      },
      "outputs": [],
      "source": [
        "# Plot the 4 learning curves\n",
        "train_err_gini = pd.Series(error_rate(df_train_inputs, df_train_outputs, df_train_inputs, df_train_outputs, \"gini\"), index=np.arange(2, 16))\n",
        "test_err_gini = pd.Series(error_rate(df_train_inputs, df_train_outputs, df_test_inputs, df_test_outputs, \"gini\"), index=np.arange(2, 16))\n",
        "train_err_entropy = pd.Series(error_rate(df_train_inputs, df_train_outputs, df_train_inputs, df_train_outputs, \"entropy\"), index=np.arange(2, 16))\n",
        "test_err_entropy = pd.Series(error_rate(df_train_inputs, df_train_outputs, df_test_inputs, df_test_outputs, \"entropy\"), index=np.arange(2, 16))"
      ]
    },
    {
      "cell_type": "code",
      "source": [
        "plt.figure(figsize=(16,6))\n",
        "plt.grid()\n",
        "\n",
        "plt.plot(train_err_gini.index, train_err_gini.values, 'bs-', data=train_err_gini, label=\"Train Error Rate (Gini)\")\n",
        "plt.plot(test_err_gini.index, test_err_gini.values, 'rs-', data=test_err_gini, label=\"Test Error Rate (Gini)\")\n",
        "plt.plot(train_err_entropy.index, train_err_entropy.values, 'gs-', data=train_err_entropy, label=\"Train Error Rate (Entropy)\")\n",
        "plt.plot(test_err_entropy.index, test_err_entropy.values, 'ys-', data=test_err_entropy, label=\"Test Error Rate (Entropy)\")\n",
        "\n",
        "plt.xlabel(\"Number of Max_depth\",  fontsize=15)\n",
        "plt.ylabel(\"Error Rate\",  fontsize=15)\n",
        "plt.title(\"Error Rate Trend of Decision Tree models of Max depth of from 2 to 15\", fontsize=20)\n",
        "plt.legend()"
      ],
      "metadata": {
        "colab": {
          "base_uri": "https://localhost:8080/",
          "height": 433
        },
        "id": "D8RHOTl2ygi3",
        "outputId": "db24a1fb-98ae-4aaf-b4d0-fb3146a39f17"
      },
      "execution_count": null,
      "outputs": [
        {
          "output_type": "execute_result",
          "data": {
            "text/plain": [
              "<matplotlib.legend.Legend at 0x7f36e2c15dc0>"
            ]
          },
          "metadata": {},
          "execution_count": 21
        },
        {
          "output_type": "display_data",
          "data": {
            "text/plain": [
              "<Figure size 1152x432 with 1 Axes>"
            ],
            "image/png": "[encoded data removed]"
          },
          "metadata": {
            "needs_background": "light"
          }
        }
      ]
    },
    {
      "cell_type": "markdown",
      "metadata": {
        "id": "sTT774qwrmyw"
      },
      "source": [
        "➡️ Answer containing your analysis of the trend (or if no trend present, offer a hypotheisis of why) here \n",
        "\n",
        "Similar to what we saw in class, training error rates continues to decrease with depth while the test error rates decrease with depth up till an inflection point. This is observed because too much depth in a decision tree can cause overfitting. Overfitting is when a model is too complex and made to fit the training data too specifically that the training error is small but test error becomes big. The ideal depth in the gini and entropy model seem to be around 3, as that is where we see the test error rates be the lowest."
      ]
    }
  ],
  "metadata": {
    "colab": {
      "provenance": []
    },
    "kernelspec": {
      "display_name": "Python 3",
      "language": "python",
      "name": "python3"
    },
    "language_info": {
      "codemirror_mode": {
        "name": "ipython",
        "version": 3
      },
      "file_extension": ".py",
      "mimetype": "text/x-python",
      "name": "python",
      "nbconvert_exporter": "python",
      "pygments_lexer": "ipython3",
      "version": "3.8.8"
    }
  },
  "nbformat": 4,
  "nbformat_minor": 0
}