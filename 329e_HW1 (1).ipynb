{
  "cells": [
    {
      "cell_type": "markdown",
      "metadata": {
        "id": "BoxpSMDOX1_y"
      },
      "source": [
        "# Homework 1\n",
        "\n",
        "## Pair Programming Group Number: 15\n",
        "## Members of Team: Ankita Sumeet, Chloe Jin\n",
        "\n",
        "\n",
        "### Data maniupuation and Visualization!\n",
        "\n",
        "In our first assignment you will practice manipuating and visualizing data from a real wold data set, Melbourne Australia home sales records. \n",
        "\n",
        "### The Data\n",
        "\n",
        "Was taken from a Kaggle competition, and came with the following descriptions:\n",
        "Content & Acknowledgements\n",
        "\n",
        "```\n",
        "This data was scraped from publicly available results posted every week from Domain.com.au, I've cleaned it as best I can, now it's up to you to make data analysis magic. The dataset includes Address, Type of Real estate, Suburb, Method of Selling, Rooms, Price, Real Estate Agent, Date of Sale and distance from C.B.D.\n",
        "\n",
        "….Now with extra data including including property size, land size and council area, you may need to change your code!\n",
        "\n",
        "Some Key Details\n",
        "Suburb: Suburb\n",
        "\n",
        "Address: Address\n",
        "\n",
        "Rooms: Number of rooms\n",
        "\n",
        "Price: Price in Australian dollars\n",
        "\n",
        "Method:\n",
        "S - property sold;\n",
        "SP - property sold prior;\n",
        "PI - property passed in;\n",
        "PN - sold prior not disclosed;\n",
        "SN - sold not disclosed;\n",
        "NB - no bid;\n",
        "VB - vendor bid;\n",
        "W - withdrawn prior to auction;\n",
        "SA - sold after auction;\n",
        "SS - sold after auction price not disclosed.\n",
        "N/A - price or highest bid not available.\n",
        "\n",
        "Type:\n",
        "br - bedroom(s);\n",
        "h - house,cottage,villa, semi,terrace;\n",
        "u - unit, duplex;\n",
        "t - townhouse;\n",
        "dev site - development site;\n",
        "o res - other residential.\n",
        "\n",
        "SellerG: Real Estate Agent\n",
        "\n",
        "Date: Date sold\n",
        "\n",
        "Distance: Distance from CBD in Kilometres\n",
        "\n",
        "Regionname: General Region (West, North West, North, North east …etc)\n",
        "\n",
        "Propertycount: Number of properties that exist in the suburb.\n",
        "\n",
        "Bedroom2 : Scraped # of Bedrooms (from different source)\n",
        "\n",
        "Bathroom: Number of Bathrooms\n",
        "\n",
        "Car: Number of carspots\n",
        "\n",
        "Landsize: Land Size in Metres\n",
        "\n",
        "BuildingArea: Building Size in Metres\n",
        "\n",
        "YearBuilt: Year the house was built\n",
        "\n",
        "CouncilArea: Governing council for the area\n",
        "\n",
        "Lattitude: Self explanitory\n",
        "\n",
        "Longtitude: Self explanitory\n",
        "```\n"
      ]
    },
    {
      "cell_type": "markdown",
      "metadata": {
        "id": "Xc3WoTIgX1_z"
      },
      "source": [
        "## Q1 - Loading Data\n",
        "Run the following code section to load dataset into a pandas DataFrame named `df`. If you need to look up other\n",
        "syntax on how to read csv files you can find it [here](https://pandas.pydata.org/docs/reference/api/pandas.read_csv.html)."
      ]
    },
    {
      "cell_type": "code",
      "execution_count": null,
      "metadata": {
        "id": "meTTfqQNX1_0"
      },
      "outputs": [],
      "source": [
        "# remember to type in your standard library import for pandas first\n",
        "import pandas as pd\n",
        "import numpy as np \n",
        "import matplotlib.pyplot as plt\n",
        "\n",
        "url = 'https://gist.githubusercontent.com/TieJean/ba718aac753c2f90e3d4e040d8f7d982/raw/2aca4164b087fa86721e877b4f1a6bd46d687035/melb_data.csv'\n",
        "\n",
        "# your code goes here - read the data from the URL \n",
        "df = pd.read_csv(url)"
      ]
    },
    {
      "cell_type": "markdown",
      "metadata": {
        "id": "w8oF--FrX1_0"
      },
      "source": [
        "## Q2 - How many unique suburbs are there?\n",
        "\n",
        "Are there any pandas DataFrame operations that can do this for you?\n",
        "\n",
        "[This](https://pandas.pydata.org/pandas-docs/stable/reference/api/pandas.Series.nunique.html) function might help. "
      ]
    },
    {
      "cell_type": "code",
      "execution_count": null,
      "metadata": {
        "id": "hLKvAS0YX1_1",
        "colab": {
          "base_uri": "https://localhost:8080/"
        },
        "outputId": "8d97a3ec-488e-42eb-a1ed-1bff46b9e6fe"
      },
      "outputs": [
        {
          "output_type": "execute_result",
          "data": {
            "text/plain": [
              "314"
            ]
          },
          "metadata": {},
          "execution_count": 11
        }
      ],
      "source": [
        "# code goes here\n",
        "df_unique = df.nunique(dropna=True)\n",
        "df_unique['Suburb']"
      ]
    },
    {
      "cell_type": "markdown",
      "metadata": {
        "id": "e6X1RCrUX1_1"
      },
      "source": [
        "## Q3 - How many unique properties are there?\n",
        "\n",
        "If you forget the names of the columns you can always type:\n",
        "\n",
        "`df.columns` \n",
        "\n",
        "in a cell by itself to see this list of column names."
      ]
    },
    {
      "cell_type": "code",
      "execution_count": null,
      "metadata": {
        "id": "ER7hBbf9X1_2",
        "colab": {
          "base_uri": "https://localhost:8080/"
        },
        "outputId": "4d1190d7-5b24-4b04-ff2a-92ac3b9102e7"
      },
      "outputs": [
        {
          "output_type": "execute_result",
          "data": {
            "text/plain": [
              "13378"
            ]
          },
          "metadata": {},
          "execution_count": 12
        }
      ],
      "source": [
        "# code goes here\n",
        "df_unique['Address']"
      ]
    },
    {
      "cell_type": "markdown",
      "metadata": {
        "id": "BtVI3MNMX1_2"
      },
      "source": [
        "## Q4 - What is the mean price of a property in the Kensington suburb?\n",
        "\n",
        "You are getting the hang of reading the documentation!  Try finding the function\n",
        "for mean yourself at the [root page](https://pandas.pydata.org/pandas-docs/stable/index.html) of the documentation."
      ]
    },
    {
      "cell_type": "code",
      "execution_count": null,
      "metadata": {
        "id": "Z9l57TjwX1_3",
        "colab": {
          "base_uri": "https://localhost:8080/"
        },
        "outputId": "bbaa71e4-1e0a-4c38-efaf-ac99d4ea9dd4"
      },
      "outputs": [
        {
          "output_type": "execute_result",
          "data": {
            "text/plain": [
              "831667.436"
            ]
          },
          "metadata": {},
          "execution_count": 18
        }
      ],
      "source": [
        "# code goes here\n",
        "# drop duplicates by using df_unique? either works.\n",
        "df_ken = df[df['Suburb']=='Kensington']\n",
        "df_ken['Price'].mean().round(decimals=3)"
      ]
    },
    {
      "cell_type": "markdown",
      "metadata": {
        "id": "-8ZCoblfX1_4"
      },
      "source": [
        "## Q5 - What percentage of properties contain a YearBuilt value?"
      ]
    },
    {
      "cell_type": "code",
      "execution_count": null,
      "metadata": {
        "id": "mRRvcWjQX1_4",
        "colab": {
          "base_uri": "https://localhost:8080/"
        },
        "outputId": "3a96e7f4-e618-4343-ca8a-3fcb0730e5b5"
      },
      "outputs": [
        {
          "output_type": "execute_result",
          "data": {
            "text/plain": [
              "60.41973490427098"
            ]
          },
          "metadata": {},
          "execution_count": 14
        }
      ],
      "source": [
        "# code goes here\n",
        "df_yb = df[df['YearBuilt'].notna()]\n",
        "(len(df_yb)/len(df))* 100"
      ]
    },
    {
      "cell_type": "markdown",
      "metadata": {
        "id": "aiQCYn_IX1_4"
      },
      "source": [
        "## Q6 - Plot the Landsize as a histogram using 20 bins. Say something interesting about the graph.\n",
        "\n",
        "Matplotlib is [here](https://matplotlib.org/3.3.3/api/_as_gen/matplotlib.pyplot.hist.html) to help. \n",
        "\n",
        "In data visualization we discuss the \"Ink Ratio\" of creating graphics.  If you use the definalt bin sizes of the matplotlib histogram function, you will find that the histogram is not very informative.  Use the documentation to guide you to adjust the width of the bins in the histogram to make one _really_ wide bin on the right, and the rest of the bins equally distributed where most of the data resides. "
      ]
    },
    {
      "cell_type": "code",
      "execution_count": null,
      "metadata": {
        "id": "Oo6vG_lMX1_5",
        "colab": {
          "base_uri": "https://localhost:8080/",
          "height": 313
        },
        "outputId": "281a1a78-4236-4abc-ad47-9ca98971a051"
      },
      "outputs": [
        {
          "output_type": "execute_result",
          "data": {
            "text/plain": [
              "Text(0.5, 0, 'Landsize in Meters (values above 2000 not shown)')"
            ]
          },
          "metadata": {},
          "execution_count": 49
        },
        {
          "output_type": "display_data",
          "data": {
            "text/plain": [
              "<Figure size 432x288 with 1 Axes>"
            ],
            "image/png": "[encoded data removed]"
          },
          "metadata": {
            "needs_background": "light"
          }
        }
      ],
      "source": [
        "# code goes here\n",
        "plt.hist(df['Landsize'], bins=[0,100,200,300,400,500,600,700,800,900,1000,1100,1200,1300,1400,1500,1600,1700,1800,1900,2000]) \n",
        "# df['Landsize'].max()\n",
        "plt.title(\"Landsize Histogram\")\n",
        "plt.ylabel(\"Landsize Frequency\")\n",
        "plt.xlabel(\"Landsize in Meters (values above 2000 not shown)\")"
      ]
    },
    {
      "cell_type": "code",
      "source": [],
      "metadata": {
        "id": "6IZNDBk4oUnb"
      },
      "execution_count": null,
      "outputs": []
    },
    {
      "cell_type": "markdown",
      "metadata": {
        "id": "yd42RX90X1_5"
      },
      "source": [
        "## Q7 - Plot a scatter plot of price as a function of BuildingArea using only rows that have a valid BuildingArea value\n",
        "\n",
        "Break this down into slicing the DataFrame first, then creating the visualization.  There are both `plot` and `scatter` functions in the matplotlib library that can help here.  You'll notice there is more than one way to do a thing so much in computer science 😄\n",
        "\n",
        "If you have to change your axes and end up excluding some points to make the data more visible, then annotate the number of points excluded in the graph. "
      ]
    },
    {
      "cell_type": "code",
      "execution_count": null,
      "metadata": {
        "id": "8rCVjyRkX1_5",
        "colab": {
          "base_uri": "https://localhost:8080/",
          "height": 313
        },
        "outputId": "93699fc2-9d44-44b1-c30d-9a88ce22c70e"
      },
      "outputs": [
        {
          "output_type": "execute_result",
          "data": {
            "text/plain": [
              "Text(600, 6000000, '(3558, 930000), (3112, 2608000)')"
            ]
          },
          "metadata": {},
          "execution_count": 19
        },
        {
          "output_type": "display_data",
          "data": {
            "text/plain": [
              "<Figure size 432x288 with 1 Axes>"
            ],
            "image/png": "[encoded data removed]"
          },
          "metadata": {
            "needs_background": "light"
          }
        }
      ],
      "source": [
        "# code goes here\n",
        "df_valid_ba = df[df['BuildingArea'].notna()]\n",
        "plt.scatter(df_valid_ba['BuildingArea'], df_valid_ba['Price'])\n",
        "\n",
        "plt.axis([0, 1750, 0, 10000000])\n",
        "plt.title('Price v. Building Area')\n",
        "plt.xlabel('Building Area in Meters')\n",
        "plt.ylabel('Price in Tens of Millions of Dollars')\n",
        "plt.text(600,8000000,'Displayed plot excludes 4 data points:')\n",
        "plt.text(600,7000000,'(44515, 1355000), (6791, 1280000)')\n",
        "plt.text(600,6000000,'(3558, 930000), (3112, 2608000)')\n",
        "\n",
        "# Displayed plot excludes 4 data points:\n",
        "# 1. Building area 44515, Price 1355000\n",
        "# 2. Building area 6791, Price 1280000\n",
        "# 3. Building area 3558, Price 930000\n",
        "# 4. Building area 3112, Price 2608000"
      ]
    },
    {
      "cell_type": "markdown",
      "metadata": {
        "id": "JBJ-e7kXX1_6"
      },
      "source": [
        "## Q8 - List the top 10 SellerG, and what percentage of properties they have listed \n",
        "\n",
        "I'm going to assume that the SellerG column is the name of the seller group, so \"realtor\" in US parlance.  So, that column is interpreted as the seller that listed the property.\n",
        "\n",
        "Check out the function `value_counts` in pandas documentation. "
      ]
    },
    {
      "cell_type": "code",
      "execution_count": null,
      "metadata": {
        "id": "UgG7EEkMX1_6",
        "colab": {
          "base_uri": "https://localhost:8080/"
        },
        "outputId": "78a865f9-9742-4dbb-8cbb-79220c6782ba"
      },
      "outputs": [
        {
          "output_type": "execute_result",
          "data": {
            "text/plain": [
              "Nelson           11.524300\n",
              "Jellis            9.690722\n",
              "hockingstuart     8.593520\n",
              "Barry             7.444772\n",
              "Ray               5.162003\n",
              "Marshall          4.852725\n",
              "Buxton            4.653903\n",
              "Biggin            2.893962\n",
              "Brad              2.518409\n",
              "Fletchers         2.216495\n",
              "Name: SellerG, dtype: float64"
            ]
          },
          "metadata": {},
          "execution_count": 20
        }
      ],
      "source": [
        "# code goes here\n",
        "df_seller = df[\"SellerG\"].value_counts(normalize = True) * 100\n",
        "df_seller.head(10)"
      ]
    },
    {
      "cell_type": "markdown",
      "metadata": {
        "id": "5MBx3GOSX1_6"
      },
      "source": [
        "## Q9 - Fix a problem\n",
        "Your boss has told you that the number of rooms was calculated incorrectly systematically across the entire data set.  Add one room to the Rooms column using two methods:\n",
        "\n",
        " - a for loop, and\n",
        " - using a single statement\n",
        " \n",
        "Save those DataFrames into the variables `df1` and `df2`.  (We don't use these again, for the next questions just continue using `df`)\n",
        "\n",
        "Watch out that you don't accidentally change the original DataFrame using a shallow copy."
      ]
    },
    {
      "cell_type": "code",
      "execution_count": null,
      "metadata": {
        "id": "r0ShZHNWX1_6"
      },
      "outputs": [],
      "source": [
        "# code goes here\n",
        "df1 = df.copy(deep=True)\n",
        "\n",
        "for i in range (df1.shape[0]):\n",
        "  df1.at[i,\"Rooms\"] = df1.iloc[i]['Rooms'] + 1\n",
        "\n",
        "df2 = df.copy(deep=True)\n",
        "df2[\"Rooms\"] = df[\"Rooms\"] + 1"
      ]
    },
    {
      "cell_type": "markdown",
      "metadata": {
        "id": "FygRoLlQX1_6"
      },
      "source": [
        "## Q10- What is the Address of the earliest built house in the data set?\n",
        "\n",
        "This will exercise your DataFrame slicing ability. "
      ]
    },
    {
      "cell_type": "code",
      "execution_count": null,
      "metadata": {
        "id": "82HQO9rUX1_7",
        "colab": {
          "base_uri": "https://localhost:8080/"
        },
        "outputId": "19057ad1-0236-42de-b021-488345d22b13"
      },
      "outputs": [
        {
          "output_type": "execute_result",
          "data": {
            "text/plain": [
              "9968    5 Armstrong St\n",
              "Name: Address, dtype: object"
            ]
          },
          "metadata": {},
          "execution_count": 22
        }
      ],
      "source": [
        "# code goes here\n",
        "df.loc[df[\"YearBuilt\"] == df[\"YearBuilt\"].dropna().min()].Address"
      ]
    },
    {
      "cell_type": "markdown",
      "metadata": {
        "id": "4N996VLjX1_7"
      },
      "source": [
        "## Q11 - Save a file \n",
        "\n",
        "The council member for Melbourne has asked for the information for their district.  Assume that there are legal restrcitions and we can only provide the council member the Suburb, Price, and Date from the CouncilArea \"Melbourne\" to the council person.  Export the file with only the allowed columns, and do not write and index column.\n",
        "\n",
        "The other half of `read_csv`, is `to_csv`.  Make sure you follow the documentation and only include the columns asked for in the output."
      ]
    },
    {
      "cell_type": "code",
      "execution_count": null,
      "metadata": {
        "id": "MM_CwR9tX1_7"
      },
      "outputs": [],
      "source": [
        "# code goes here\n",
        "df_res = df.copy()\n",
        "df_res = df_res[(df['CouncilArea'] == 'Melbourne')]\n",
        "df_res = df_res[['Suburb', 'Price', 'Date']]\n",
        "df_res.to_csv('my_output_file.csv', index = False)"
      ]
    }
  ],
  "metadata": {
    "colab": {
      "provenance": []
    },
    "kernelspec": {
      "display_name": "Python 3",
      "language": "python",
      "name": "python3"
    },
    "language_info": {
      "codemirror_mode": {
        "name": "ipython",
        "version": 3
      },
      "file_extension": ".py",
      "mimetype": "text/x-python",
      "name": "python",
      "nbconvert_exporter": "python",
      "pygments_lexer": "ipython3",
      "version": "3.8.8"
    }
  },
  "nbformat": 4,
  "nbformat_minor": 0
}